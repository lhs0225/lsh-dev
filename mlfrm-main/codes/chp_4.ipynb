{
 "cells": [
  {
   "cell_type": "markdown",
   "metadata": {},
   "source": [
    "# Volatility Prediction"
   ]
  },
  {
   "cell_type": "code",
   "execution_count": null,
   "metadata": {},
   "outputs": [],
   "source": [
    "import numpy as np\n",
    "from scipy.stats import norm\n",
    "import scipy.optimize as opt\n",
    "import yfinance as yf\n",
    "import pandas as pd\n",
    "import datetime\n",
    "import time\n",
    "from arch import arch_model\n",
    "import matplotlib.pyplot as plt\n",
    "from numba import jit\n",
    "from sklearn.metrics import mean_squared_error as mse\n",
    "import warnings\n",
    "warnings.filterwarnings('ignore')\n",
    "plt.rcParams['figure.dpi'] = 300\n",
    "plt.rcParams['savefig.dpi'] = 300"
   ]
  },
  {
   "cell_type": "code",
   "execution_count": null,
   "metadata": {},
   "outputs": [],
   "source": [
    "stocks = '^GSPC'\n",
    "start = datetime.datetime(2010, 1, 1)\n",
    "end = datetime.datetime(2021, 8, 1)\n",
    "s_p500 = yf.download(stocks, start=start, end = end, interval='1d')"
   ]
  },
  {
   "cell_type": "code",
   "execution_count": null,
   "metadata": {},
   "outputs": [],
   "source": [
    "ret = 100 * (s_p500.pct_change()[1:]['Adj Close'])\n",
    "realized_vol = ret.rolling(5).std()"
   ]
  },
  {
   "cell_type": "code",
   "execution_count": null,
   "metadata": {},
   "outputs": [],
   "source": [
    "plt.figure(figsize=(10, 6))\n",
    "plt.plot(realized_vol.index,realized_vol)\n",
    "plt.title('Realized Volatility- S&P-500') \n",
    "plt.ylabel('Volatility')\n",
    "plt.xlabel('Date') \n",
    "plt.show()"
   ]
  },
  {
   "cell_type": "code",
   "execution_count": null,
   "metadata": {},
   "outputs": [],
   "source": [
    "retv = ret.values"
   ]
  },
  {
   "cell_type": "code",
   "execution_count": null,
   "metadata": {},
   "outputs": [],
   "source": [
    "plt.figure(figsize=(10, 6))\n",
    "plt.plot(s_p500.index[1:], ret)\n",
    "plt.title('Volatility clustering of S&P-500') \n",
    "plt.ylabel('Daily returns')\n",
    "plt.xlabel('Date') \n",
    "plt.show()"
   ]
  },
  {
   "cell_type": "markdown",
   "metadata": {},
   "source": [
    "## ARCH"
   ]
  },
  {
   "cell_type": "code",
   "execution_count": null,
   "metadata": {},
   "outputs": [],
   "source": [
    "n = 252\n",
    "split_date = ret.iloc[-n:].index"
   ]
  },
  {
   "cell_type": "code",
   "execution_count": null,
   "metadata": {},
   "outputs": [],
   "source": [
    "sgm2 = ret.var()\n",
    "K = ret.kurtosis()\n",
    "alpha = (-3.0 * sgm2 + np.sqrt(9.0 * sgm2 ** 2 - 12.0 * \n",
    "                             (3.0 * sgm2 - K) * K)) / (6 * K)\n",
    "omega = (1 - alpha) * sgm2\n",
    "initial_parameters = [alpha, omega]\n",
    "omega, alpha"
   ]
  },
  {
   "cell_type": "code",
   "execution_count": null,
   "metadata": {},
   "outputs": [],
   "source": [
    "@jit(nopython=True, parallel=True)\n",
    "def arch_likelihood(initial_parameters, retv):\n",
    "    omega = abs(initial_parameters[0])\n",
    "    alpha = abs(initial_parameters[1])\n",
    "    T = len(retv)\n",
    "    logliks = 0\n",
    "    sigma2 = np.zeros(T)\n",
    "    sigma2[0] = np.var(retv)\n",
    "    for t in range(1, T):\n",
    "        sigma2[t] = omega + alpha * (retv[t - 1]) ** 2 \n",
    "    logliks = np.sum(0.5 * (np.log(sigma2)+retv ** 2 / sigma2))\n",
    "    return logliks\n"
   ]
  },
  {
   "cell_type": "code",
   "execution_count": null,
   "metadata": {},
   "outputs": [],
   "source": [
    "logliks = arch_likelihood(initial_parameters, retv)\n",
    "logliks"
   ]
  },
  {
   "cell_type": "code",
   "execution_count": null,
   "metadata": {},
   "outputs": [],
   "source": [
    "def opt_params(x0, retv):\n",
    "    opt_result = opt.minimize(arch_likelihood, x0=x0, args = (retv),\n",
    "                              method='Nelder-Mead', \n",
    "                              options={'maxiter': 5000})\n",
    "    params = opt_result.x\n",
    "    print('\\nResults of Nelder-Mead minimization\\n{}\\n{}'\n",
    "          .format(''.join(['-'] * 28), opt_result))\n",
    "    print('\\nResulting params = {}'.format(params))\n",
    "    return params"
   ]
  },
  {
   "cell_type": "code",
   "execution_count": null,
   "metadata": {},
   "outputs": [],
   "source": [
    "params = opt_params(initial_parameters, retv)"
   ]
  },
  {
   "cell_type": "code",
   "execution_count": null,
   "metadata": {},
   "outputs": [],
   "source": [
    "def arch_apply(ret):\n",
    "        omega = params[0]\n",
    "        alpha = params[1]\n",
    "        T = len(ret)\n",
    "        sigma2_arch = np.zeros(T + 1)\n",
    "        sigma2_arch[0] = np.var(ret)\n",
    "        for t in range(1, T):\n",
    "            sigma2_arch[t] = omega + alpha * ret[t - 1] ** 2\n",
    "        return sigma2_arch"
   ]
  },
  {
   "cell_type": "code",
   "execution_count": null,
   "metadata": {},
   "outputs": [],
   "source": [
    "sigma2_arch = arch_apply(ret)"
   ]
  },
  {
   "cell_type": "code",
   "execution_count": null,
   "metadata": {},
   "outputs": [],
   "source": [
    "arch = arch_model(ret, mean='zero', vol='ARCH', p=1).fit(disp='off')\n",
    "print(arch.summary())"
   ]
  },
  {
   "cell_type": "code",
   "execution_count": null,
   "metadata": {},
   "outputs": [],
   "source": [
    "bic_arch = []\n",
    "\n",
    "for p in range(1, 5):\n",
    "        arch = arch_model(ret, mean='zero', vol='ARCH', p=p)\\\n",
    "                .fit(disp='off')\n",
    "        bic_arch.append(arch.bic)\n",
    "        if arch.bic == np.min(bic_arch):\n",
    "            best_param = p\n",
    "arch = arch_model(ret, mean='zero', vol='ARCH', p=best_param)\\\n",
    "        .fit(disp='off')\n",
    "print(arch.summary())\n",
    "forecast = arch.forecast(start=split_date[0])\n",
    "forecast_arch = forecast"
   ]
  },
  {
   "cell_type": "code",
   "execution_count": null,
   "metadata": {},
   "outputs": [],
   "source": [
    "rmse_arch = np.sqrt(mse(realized_vol[-n:] / 100, \n",
    "                        np.sqrt(forecast_arch\\\n",
    "                        .variance.iloc[-len(split_date):] \n",
    "                        / 100)))\n",
    "print('The RMSE value of ARCH model is {:.4f}'.format(rmse_arch))"
   ]
  },
  {
   "cell_type": "code",
   "execution_count": null,
   "metadata": {},
   "outputs": [],
   "source": [
    "plt.figure(figsize=(10, 6))\n",
    "plt.plot(realized_vol / 100, label='Realized Volatility')\n",
    "plt.plot(forecast_arch.variance.iloc[-len(split_date):] / 100, \n",
    "         label='Volatility Prediction-ARCH')\n",
    "plt.title('Volatility Prediction with ARCH', fontsize=12)\n",
    "plt.legend()\n",
    "plt.show()"
   ]
  },
  {
   "cell_type": "markdown",
   "metadata": {},
   "source": [
    "## GARCH"
   ]
  },
  {
   "cell_type": "code",
   "execution_count": null,
   "metadata": {},
   "outputs": [],
   "source": [
    "a0 = 0.0001\n",
    "sgm2 = ret.var()\n",
    "K = ret.kurtosis()\n",
    "h = 1 - alpha / sgm2\n",
    "alpha = np.sqrt(K * (1 - h ** 2) / (2.0 * (K + 3)))\n",
    "beta = np.abs(h - omega)\n",
    "omega = (1 - omega) * sgm2\n",
    "initial_parameters = np.array([omega, alpha, beta])\n",
    "print('Initial parameters for omega, alpha, and beta are \\n{}\\n{}\\n{}'\n",
    "      .format(omega, alpha, beta))"
   ]
  },
  {
   "cell_type": "code",
   "execution_count": null,
   "metadata": {},
   "outputs": [],
   "source": [
    "retv = ret.values"
   ]
  },
  {
   "cell_type": "code",
   "execution_count": null,
   "metadata": {},
   "outputs": [],
   "source": [
    "@jit(nopython=True, parallel=True)\n",
    "def garch_likelihood(initial_parameters, retv):\n",
    "    omega = initial_parameters[0]\n",
    "    alpha = initial_parameters[1]\n",
    "    beta = initial_parameters[2]\n",
    "    T =  len(retv)\n",
    "    logliks = 0\n",
    "    sigma2 = np.zeros(T)\n",
    "    sigma2[0] = np.var(retv)\n",
    "    for t in range(1, T):\n",
    "        sigma2[t] = omega + alpha * (retv[t - 1]) ** 2 + beta * sigma2[t-1]\n",
    "    logliks = np.sum(0.5 * (np.log(sigma2) + retv ** 2 / sigma2))\n",
    "    return logliks"
   ]
  },
  {
   "cell_type": "code",
   "execution_count": null,
   "metadata": {},
   "outputs": [],
   "source": [
    "logliks = garch_likelihood(initial_parameters, retv)\n",
    "print('The Log likelihood  is {:.4f}'.format(logliks))"
   ]
  },
  {
   "cell_type": "code",
   "execution_count": null,
   "metadata": {},
   "outputs": [],
   "source": [
    "def garch_constraint(initial_parameters):  \n",
    "    alpha = initial_parameters[0]\n",
    "    gamma = initial_parameters[1]\n",
    "    beta = initial_parameters[2]\n",
    "    return np.array([1 - alpha - beta])"
   ]
  },
  {
   "cell_type": "code",
   "execution_count": null,
   "metadata": {},
   "outputs": [],
   "source": [
    "bounds = [(0.0, 1.0), (0.0, 1.0), (0.0, 1.0)]"
   ]
  },
  {
   "cell_type": "code",
   "execution_count": null,
   "metadata": {},
   "outputs": [],
   "source": [
    "def opt_paramsG(initial_parameters, retv):\n",
    "    opt_result = opt.minimize(garch_likelihood, \n",
    "                              x0=initial_parameters,\n",
    "                              constraints=np.array([1 - alpha - beta]), \n",
    "                              bounds=bounds, args = (retv),\n",
    "                              method='Nelder-Mead',\n",
    "                              options={'maxiter': 5000})\n",
    "    params = opt_result.x\n",
    "    print('\\nResults of Nelder-Mead minimization\\n{}\\n{}'\\\n",
    "          .format('-' * 35, opt_result))\n",
    "    print('-' * 35)\n",
    "    print('\\nResulting parameters = {}'.format(params))\n",
    "    return params"
   ]
  },
  {
   "cell_type": "code",
   "execution_count": null,
   "metadata": {},
   "outputs": [],
   "source": [
    "params = opt_paramsG(initial_parameters, retv)"
   ]
  },
  {
   "cell_type": "code",
   "execution_count": null,
   "metadata": {},
   "outputs": [],
   "source": [
    "def garch_apply(ret):\n",
    "        omega = params[0]\n",
    "        alpha = params[1]\n",
    "        beta = params[2]\n",
    "        T = len(ret)\n",
    "        sigma2 = np.zeros(T + 1)\n",
    "        sigma2[0] = np.var(ret)\n",
    "        for t in range(1, T):\n",
    "            sigma2[t] = omega + alpha * ret[t - 1] ** 2 +\\\n",
    "                        beta * sigma2[t-1]\n",
    "        return sigma2"
   ]
  },
  {
   "cell_type": "code",
   "execution_count": null,
   "metadata": {},
   "outputs": [],
   "source": [
    "garch = arch_model(ret, mean='zero', vol='GARCH', p=1, o=0, q=1)\\\n",
    "        .fit(disp='off')\n",
    "print(garch.summary())"
   ]
  },
  {
   "cell_type": "code",
   "execution_count": null,
   "metadata": {},
   "outputs": [],
   "source": [
    "bic_garch = []\n",
    "\n",
    "for p in range(1, 5):\n",
    "    for q in range(1, 5):\n",
    "        garch = arch_model(ret, mean='zero',vol='GARCH', p=p, o=0, q=q)\\\n",
    "                .fit(disp='off')\n",
    "        bic_garch.append(garch.bic)\n",
    "        if garch.bic == np.min(bic_garch):\n",
    "            best_param = p, q\n",
    "garch = arch_model(ret, mean='zero', vol='GARCH',\n",
    "                   p=best_param[0], o=0, q=best_param[1])\\\n",
    "        .fit(disp='off')\n",
    "print(garch.summary())\n",
    "forecast = garch.forecast(start=split_date[0])\n",
    "forecast_garch = forecast"
   ]
  },
  {
   "cell_type": "code",
   "execution_count": null,
   "metadata": {},
   "outputs": [],
   "source": [
    "rmse_garch = np.sqrt(mse(realized_vol[-n:] / 100,\n",
    "                         np.sqrt(forecast_garch\\\n",
    "                         .variance.iloc[-len(split_date):] \n",
    "                         / 100)))\n",
    "print('The RMSE value of GARCH model is {:.4f}'.format(rmse_garch))"
   ]
  },
  {
   "cell_type": "code",
   "execution_count": null,
   "metadata": {},
   "outputs": [],
   "source": [
    "plt.figure(figsize=(10,6))\n",
    "plt.plot(realized_vol / 100, label='Realized Volatility')\n",
    "plt.plot(forecast_garch.variance.iloc[-len(split_date):] / 100, \n",
    "         label='Volatility Prediction-GARCH')\n",
    "plt.title('Volatility Prediction with GARCH', fontsize=12)\n",
    "plt.legend()\n",
    "plt.show()"
   ]
  },
  {
   "cell_type": "markdown",
   "metadata": {},
   "source": [
    "## GJR-GARCH"
   ]
  },
  {
   "cell_type": "code",
   "execution_count": null,
   "metadata": {},
   "outputs": [],
   "source": [
    "bic_gjr_garch = []\n",
    "\n",
    "for p in range(1, 5):\n",
    "    for q in range(1, 5):\n",
    "        gjrgarch = arch_model(ret, mean='zero', p=p, o=1, q=q)\\\n",
    "                   .fit(disp='off')\n",
    "        bic_gjr_garch.append(gjrgarch.bic)\n",
    "        if gjrgarch.bic == np.min(bic_gjr_garch):\n",
    "            best_param = p, q\n",
    "gjrgarch = arch_model(ret,mean='zero', p=best_param[0], o=1,\n",
    "                      q=best_param[1]).fit(disp='off')\n",
    "print(gjrgarch.summary())\n",
    "forecast = gjrgarch.forecast(start=split_date[0])\n",
    "forecast_gjrgarch = forecast"
   ]
  },
  {
   "cell_type": "code",
   "execution_count": null,
   "metadata": {},
   "outputs": [],
   "source": [
    "rmse_gjr_garch = np.sqrt(mse(realized_vol[-n:] / 100,\n",
    "                             np.sqrt(forecast_gjrgarch\\\n",
    "                             .variance.iloc[-len(split_date):]\n",
    "                             / 100)))\n",
    "print('The RMSE value of GJR-GARCH models is {:.4f}'\n",
    "      .format(rmse_gjr_garch))"
   ]
  },
  {
   "cell_type": "code",
   "execution_count": null,
   "metadata": {},
   "outputs": [],
   "source": [
    "plt.figure(figsize=(10, 6))\n",
    "plt.plot(realized_vol / 100, label='Realized Volatility')\n",
    "plt.plot(forecast_gjrgarch.variance.iloc[-len(split_date):] / 100, \n",
    "         label='Volatility Prediction-GJR-GARCH')\n",
    "plt.title('Volatility Prediction with GJR-GARCH', fontsize=12)\n",
    "plt.legend()\n",
    "plt.show()"
   ]
  },
  {
   "cell_type": "markdown",
   "metadata": {},
   "source": [
    "## EGARCH"
   ]
  },
  {
   "cell_type": "code",
   "execution_count": null,
   "metadata": {},
   "outputs": [],
   "source": [
    "bic_egarch = []\n",
    "\n",
    "for p in range(1, 5):\n",
    "    for q in range(1, 5):\n",
    "        egarch = arch_model(ret, mean='zero', vol='EGARCH', p=p, q=q)\\\n",
    "                 .fit(disp='off')\n",
    "        bic_egarch.append(egarch.bic)\n",
    "        if egarch.bic == np.min(bic_egarch):\n",
    "            best_param = p, q\n",
    "egarch = arch_model(ret, mean='zero', vol='EGARCH',\n",
    "                    p=best_param[0], q=best_param[1])\\\n",
    "         .fit(disp='off')\n",
    "print(egarch.summary())\n",
    "forecast = egarch.forecast(start=split_date[0])\n",
    "forecast_egarch = forecast"
   ]
  },
  {
   "cell_type": "code",
   "execution_count": null,
   "metadata": {},
   "outputs": [],
   "source": [
    "rmse_egarch = np.sqrt(mse(realized_vol[-n:] / 100,\n",
    "                          np.sqrt(forecast_egarch.variance\\\n",
    "                          .iloc[-len(split_date):] / 100)))\n",
    "print('The RMSE value of EGARCH models is {:.4f}'.format(rmse_egarch))"
   ]
  },
  {
   "cell_type": "code",
   "execution_count": null,
   "metadata": {},
   "outputs": [],
   "source": [
    "plt.figure(figsize=(10, 6))\n",
    "plt.plot(realized_vol / 100, label='Realized Volatility')\n",
    "plt.plot(forecast_egarch.variance.iloc[-len(split_date):] / 100,\n",
    "         label='Volatility Prediction-EGARCH')\n",
    "plt.title('Volatility Prediction with EGARCH', fontsize=12)\n",
    "plt.legend()\n",
    "plt.show()"
   ]
  },
  {
   "cell_type": "markdown",
   "metadata": {},
   "source": [
    "## SVR-GARCH"
   ]
  },
  {
   "cell_type": "code",
   "execution_count": null,
   "metadata": {},
   "outputs": [],
   "source": [
    "from sklearn.svm import SVR\n",
    "from scipy.stats import uniform as sp_rand\n",
    "from sklearn.model_selection import RandomizedSearchCV"
   ]
  },
  {
   "cell_type": "code",
   "execution_count": null,
   "metadata": {},
   "outputs": [],
   "source": [
    "realized_vol = ret.rolling(5).std()\n",
    "realized_vol = pd.DataFrame(realized_vol)\n",
    "realized_vol.reset_index(drop=True, inplace=True)"
   ]
  },
  {
   "cell_type": "code",
   "execution_count": null,
   "metadata": {},
   "outputs": [],
   "source": [
    "returns_svm = ret ** 2\n",
    "returns_svm = returns_svm.reset_index()\n",
    "del returns_svm['Date']"
   ]
  },
  {
   "cell_type": "code",
   "execution_count": null,
   "metadata": {},
   "outputs": [],
   "source": [
    "X = pd.concat([realized_vol, returns_svm], axis=1, ignore_index=True)\n",
    "X = X[4:].copy()\n",
    "X = X.reset_index()\n",
    "X.drop('index', axis=1, inplace=True)"
   ]
  },
  {
   "cell_type": "code",
   "execution_count": null,
   "metadata": {},
   "outputs": [],
   "source": [
    "realized_vol = realized_vol.dropna().reset_index()\n",
    "realized_vol.drop('index', axis=1, inplace=True)"
   ]
  },
  {
   "cell_type": "code",
   "execution_count": null,
   "metadata": {},
   "outputs": [],
   "source": [
    "svr_poly = SVR(kernel='poly', degree=2)\n",
    "svr_lin = SVR(kernel='linear')\n",
    "svr_rbf = SVR(kernel='rbf')"
   ]
  },
  {
   "cell_type": "markdown",
   "metadata": {},
   "source": [
    "### SVR-GARCH-Linear"
   ]
  },
  {
   "cell_type": "code",
   "execution_count": null,
   "metadata": {},
   "outputs": [],
   "source": [
    "para_grid = {'gamma': sp_rand(),\n",
    "             'C': sp_rand(),\n",
    "             'epsilon': sp_rand()}\n",
    "clf = RandomizedSearchCV(svr_lin, para_grid)\n",
    "clf.fit(X.iloc[:-n].values, \n",
    "        realized_vol.iloc[1:-(n-1)].values.reshape(-1,))\n",
    "predict_svr_lin = clf.predict(X.iloc[-n:])"
   ]
  },
  {
   "cell_type": "code",
   "execution_count": null,
   "metadata": {},
   "outputs": [],
   "source": [
    "predict_svr_lin = pd.DataFrame(predict_svr_lin)\n",
    "predict_svr_lin.index = ret.iloc[-n:].index"
   ]
  },
  {
   "cell_type": "code",
   "execution_count": null,
   "metadata": {
    "scrolled": true
   },
   "outputs": [],
   "source": [
    "rmse_svr = np.sqrt(mse(realized_vol.iloc[-n:] / 100,\n",
    "                       predict_svr_lin / 100))\n",
    "print('The RMSE value of SVR with Linear Kernel is {:.6f}'\n",
    "      .format(rmse_svr))"
   ]
  },
  {
   "cell_type": "code",
   "execution_count": null,
   "metadata": {},
   "outputs": [],
   "source": [
    "realized_vol.index = ret.iloc[4:].index"
   ]
  },
  {
   "cell_type": "code",
   "execution_count": null,
   "metadata": {},
   "outputs": [],
   "source": [
    "plt.figure(figsize=(10, 6))\n",
    "plt.plot(realized_vol / 100, label='Realized Volatility')\n",
    "plt.plot(predict_svr_lin / 100, label='Volatility Prediction-SVR-GARCH')\n",
    "plt.title('Volatility Prediction with SVR-GARCH (Linear)', fontsize=12)\n",
    "plt.legend()\n",
    "plt.show()"
   ]
  },
  {
   "cell_type": "markdown",
   "metadata": {},
   "source": [
    "### SVR-GARCH RBF"
   ]
  },
  {
   "cell_type": "code",
   "execution_count": null,
   "metadata": {},
   "outputs": [],
   "source": [
    "para_grid ={'gamma': sp_rand(),\n",
    "            'C': sp_rand(),\n",
    "            'epsilon': sp_rand()}\n",
    "clf = RandomizedSearchCV(svr_rbf, para_grid)\n",
    "clf.fit(X.iloc[:-n].values, \n",
    "        realized_vol.iloc[1:-(n-1)].values.reshape(-1,))\n",
    "predict_svr_rbf = clf.predict(X.iloc[-n:])"
   ]
  },
  {
   "cell_type": "code",
   "execution_count": null,
   "metadata": {},
   "outputs": [],
   "source": [
    "predict_svr_rbf = pd.DataFrame(predict_svr_rbf)\n",
    "predict_svr_rbf.index = ret.iloc[-n:].index"
   ]
  },
  {
   "cell_type": "code",
   "execution_count": null,
   "metadata": {},
   "outputs": [],
   "source": [
    "rmse_svr_rbf = np.sqrt(mse(realized_vol.iloc[-n:] / 100,\n",
    "                           predict_svr_rbf / 100))\n",
    "print('The RMSE value of SVR with RBF Kernel is  {:.6f}'\n",
    "      .format(rmse_svr_rbf))"
   ]
  },
  {
   "cell_type": "code",
   "execution_count": null,
   "metadata": {
    "scrolled": true
   },
   "outputs": [],
   "source": [
    "plt.figure(figsize=(10, 6))\n",
    "plt.plot(realized_vol / 100, label='Realized Volatility')\n",
    "plt.plot(predict_svr_rbf / 100, label='Volatility Prediction-SVR_GARCH')\n",
    "plt.title('Volatility Prediction with SVR-GARCH (RBF)', fontsize=12)\n",
    "plt.legend()\n",
    "plt.show()"
   ]
  },
  {
   "cell_type": "markdown",
   "metadata": {},
   "source": [
    "### SVR-GARCH Polynomial"
   ]
  },
  {
   "cell_type": "code",
   "execution_count": null,
   "metadata": {},
   "outputs": [],
   "source": [
    "para_grid = {'gamma': sp_rand(),\n",
    "            'C': sp_rand(),\n",
    "            'epsilon': sp_rand()}\n",
    "clf = RandomizedSearchCV(svr_poly, para_grid)\n",
    "clf.fit(X.iloc[:-n].values, \n",
    "        realized_vol.iloc[1:-(n-1)].values.reshape(-1,))\n",
    "predict_svr_poly = clf.predict(X.iloc[-n:])"
   ]
  },
  {
   "cell_type": "code",
   "execution_count": null,
   "metadata": {},
   "outputs": [],
   "source": [
    "predict_svr_poly = pd.DataFrame(predict_svr_poly)\n",
    "predict_svr_poly.index = ret.iloc[-n:].index"
   ]
  },
  {
   "cell_type": "code",
   "execution_count": null,
   "metadata": {},
   "outputs": [],
   "source": [
    "rmse_svr_poly = np.sqrt(mse(realized_vol.iloc[-n:] / 100,\n",
    "                            predict_svr_poly / 100))\n",
    "print('The RMSE value of SVR with Polynomial Kernel is {:.6f}'\\\n",
    "      .format(rmse_svr_poly))"
   ]
  },
  {
   "cell_type": "code",
   "execution_count": null,
   "metadata": {},
   "outputs": [],
   "source": [
    "plt.figure(figsize=(10, 6))\n",
    "plt.plot(realized_vol/100, label='Realized Volatility')\n",
    "plt.plot(predict_svr_poly/100, label='Volatility Prediction-SVR-GARCH')\n",
    "plt.title('Volatility Prediction with SVR-GARCH (Polynomial)',\n",
    "          fontsize=12)\n",
    "plt.legend()\n",
    "plt.show()"
   ]
  },
  {
   "cell_type": "markdown",
   "metadata": {},
   "source": [
    "## NN-GARCH"
   ]
  },
  {
   "cell_type": "code",
   "execution_count": null,
   "metadata": {},
   "outputs": [],
   "source": [
    "from sklearn.neural_network import MLPRegressor\n",
    "NN_vol = MLPRegressor(learning_rate_init=0.001, random_state=1) \n",
    "para_grid_NN = {'hidden_layer_sizes': [(100, 50), (50, 50), (10, 100)],\n",
    "               'max_iter': [500, 1000],\n",
    "               'alpha': [0.00005, 0.0005 ]}>\n",
    "clf = RandomizedSearchCV(NN_vol, para_grid_NN)\n",
    "clf.fit(X.iloc[:-n].values, \n",
    "        realized_vol.iloc[1:-(n-1)].values.reshape(-1, ))\n",
    "NN_predictions = clf.predict(X.iloc[-n:])"
   ]
  },
  {
   "cell_type": "code",
   "execution_count": null,
   "metadata": {},
   "outputs": [],
   "source": [
    "NN_predictions = pd.DataFrame(NN_predictions)\n",
    "NN_predictions.index = ret.iloc[-n:].index"
   ]
  },
  {
   "cell_type": "code",
   "execution_count": null,
   "metadata": {},
   "outputs": [],
   "source": [
    "rmse_NN = np.sqrt(mse(realized_vol.iloc[-n:] / 100,\n",
    "                      NN_predictions / 100))\n",
    "print('The RMSE value of NN is {:.6f}'.format(rmse_NN))"
   ]
  },
  {
   "cell_type": "code",
   "execution_count": null,
   "metadata": {},
   "outputs": [],
   "source": [
    "plt.figure(figsize=(10, 6))\n",
    "plt.plot(realized_vol / 100, label='Realized Volatility')\n",
    "plt.plot(NN_predictions / 100, label='Volatility Prediction-NN')\n",
    "plt.title('Volatility Prediction with Neural Network', fontsize=12)\n",
    "plt.legend()\n",
    "plt.show()"
   ]
  },
  {
   "cell_type": "markdown",
   "metadata": {},
   "source": [
    "## DL-GARCH"
   ]
  },
  {
   "cell_type": "code",
   "execution_count": null,
   "metadata": {},
   "outputs": [],
   "source": [
    "import tensorflow as tf\n",
    "from tensorflow import keras\n",
    "from tensorflow.keras import layers"
   ]
  },
  {
   "cell_type": "code",
   "execution_count": null,
   "metadata": {},
   "outputs": [],
   "source": [
    "model = keras.Sequential(\n",
    "    [layers.Dense(256, activation=\"relu\"),\n",
    "     layers.Dense(128, activation=\"relu\"),\n",
    "     layers.Dense(1, activation=\"linear\"),])"
   ]
  },
  {
   "cell_type": "code",
   "execution_count": null,
   "metadata": {},
   "outputs": [],
   "source": [
    "model.compile(loss='mse', optimizer='rmsprop')"
   ]
  },
  {
   "cell_type": "code",
   "execution_count": null,
   "metadata": {},
   "outputs": [],
   "source": [
    "epochs_trial = np.arange(100, 400, 4)\n",
    "batch_trial = np.arange(100, 400, 4)\n",
    "DL_pred = []\n",
    "DL_RMSE = []\n",
    "for i, j, k in zip(range(4), epochs_trial, batch_trial):\n",
    "    model.fit(X.iloc[:-n].values,\n",
    "              realized_vol.iloc[1:-(n-1)].values.reshape(-1,),\n",
    "              batch_size=k, epochs=j, verbose=False)\n",
    "    DL_predict = model.predict(np.asarray(X.iloc[-n:]))\n",
    "    DL_RMSE.append(np.sqrt(mse(realized_vol.iloc[-n:] / 100,\n",
    "                            DL_predict.flatten() / 100)))\n",
    "    DL_pred.append(DL_predict)\n",
    "    print('DL_RMSE_{}:{:.6f}'.format(i+1, DL_RMSE[i]))"
   ]
  },
  {
   "cell_type": "code",
   "execution_count": null,
   "metadata": {},
   "outputs": [],
   "source": [
    "DL_predict = pd.DataFrame(DL_pred[DL_RMSE.index(min(DL_RMSE))])\n",
    "DL_predict.index = ret.iloc[-n:].index"
   ]
  },
  {
   "cell_type": "code",
   "execution_count": null,
   "metadata": {
    "scrolled": true
   },
   "outputs": [],
   "source": [
    "plt.figure(figsize=(10, 6))\n",
    "plt.plot(realized_vol / 100,label='Realized Volatility')\n",
    "plt.plot(DL_predict / 100,label='Volatility Prediction-DL')\n",
    "plt.title('Volatility Prediction with Deep Learning',  fontsize=12)\n",
    "plt.legend()\n",
    "plt.show()"
   ]
  },
  {
   "cell_type": "markdown",
   "metadata": {},
   "source": [
    "## Bayesian Approach"
   ]
  },
  {
   "cell_type": "code",
   "execution_count": null,
   "metadata": {},
   "outputs": [],
   "source": [
    "import quantecon as qe\n",
    "from quantecon import MarkovChain\n",
    "import networkx as nx\n",
    "from pprint import pprint "
   ]
  },
  {
   "cell_type": "code",
   "execution_count": null,
   "metadata": {},
   "outputs": [],
   "source": [
    "P = [[0.5, 0.2, 0.3],\n",
    "     [0.2, 0.3, 0.5],\n",
    "     [0.2, 0.2, 0.6]]\n",
    "\n",
    "mc = qe.MarkovChain(P, ('studying', 'travelling', 'sleeping'))\n",
    "mc.is_irreducible"
   ]
  },
  {
   "cell_type": "code",
   "execution_count": null,
   "metadata": {},
   "outputs": [],
   "source": [
    "states = ['studying', 'travelling', 'sleeping']\n",
    "initial_probs = [0.5, 0.3, 0.6]\n",
    "state_space = pd.Series(initial_probs, index=states, name='states')"
   ]
  },
  {
   "cell_type": "code",
   "execution_count": null,
   "metadata": {},
   "outputs": [],
   "source": [
    "q_df = pd.DataFrame(columns=states, index=states)\n",
    "q_df = pd.DataFrame(columns=states, index=states)\n",
    "q_df.loc[states[0]] = [0.5, 0.2, 0.3]\n",
    "q_df.loc[states[1]] = [0.2, 0.3, 0.5]\n",
    "q_df.loc[states[2]] = [0.2, 0.2, 0.6]"
   ]
  },
  {
   "cell_type": "code",
   "execution_count": null,
   "metadata": {},
   "outputs": [],
   "source": [
    "def _get_markov_edges(Q):\n",
    "    edges = {}\n",
    "    for col in Q.columns:\n",
    "        for idx in Q.index:\n",
    "            edges[(idx,col)] = Q.loc[idx,col]\n",
    "    return edges\n",
    "edges_wts = _get_markov_edges(q_df)\n",
    "pprint(edges_wts)"
   ]
  },
  {
   "cell_type": "code",
   "execution_count": null,
   "metadata": {},
   "outputs": [],
   "source": [
    "G = nx.MultiDiGraph()\n",
    "G.add_nodes_from(states)\n",
    "for k, v in edges_wts.items():\n",
    "    tmp_origin, tmp_destination = k[0], k[1]\n",
    "    G.add_edge(tmp_origin, tmp_destination, weight=v, label=v)\n",
    "\n",
    "pos = nx.drawing.nx_pydot.graphviz_layout(G, prog='dot')\n",
    "nx.draw_networkx(G, pos)\n",
    "edge_labels = {(n1, n2):d['label'] for n1, n2, d in G.edges(data=True)}\n",
    "nx.draw_networkx_edge_labels(G , pos, edge_labels=edge_labels)\n",
    "nx.drawing.nx_pydot.write_dot(G, 'mc_states.dot')"
   ]
  },
  {
   "cell_type": "code",
   "execution_count": null,
   "metadata": {},
   "outputs": [],
   "source": [
    "import pyflux as pf\n",
    "from scipy.stats import kurtosis"
   ]
  },
  {
   "cell_type": "code",
   "execution_count": null,
   "metadata": {},
   "outputs": [],
   "source": [
    "model = pf.GARCH(ret.values, p=1, q=1)\n",
    "print(model.latent_variables)\n",
    "model.adjust_prior(1, pf.Normal())\n",
    "model.adjust_prior(2, pf.Normal())\n",
    "x = model.fit(method='M-H', iterations='1000')\n",
    "print(x.summary())"
   ]
  },
  {
   "cell_type": "code",
   "execution_count": null,
   "metadata": {},
   "outputs": [],
   "source": [
    "model.plot_z([1, 2])\n",
    "model.plot_fit(figsize=(15, 5))\n",
    "model.plot_ppc(T=kurtosis, nsims=1000)"
   ]
  },
  {
   "cell_type": "code",
   "execution_count": null,
   "metadata": {},
   "outputs": [],
   "source": [
    "bayesian_prediction = model.predict_is(n, fit_method='M-H')"
   ]
  },
  {
   "cell_type": "code",
   "execution_count": null,
   "metadata": {},
   "outputs": [],
   "source": [
    "bayesian_RMSE = np.sqrt(mse(realized_vol.iloc[-n:] / 100,\n",
    "                         bayesian_prediction.values / 100))\n",
    "print('The RMSE of Bayesian model is {:.6f}'.format(bayesian_RMSE))"
   ]
  },
  {
   "cell_type": "code",
   "execution_count": null,
   "metadata": {},
   "outputs": [],
   "source": [
    "bayesian_prediction.index = ret.iloc[-n:].index"
   ]
  },
  {
   "cell_type": "code",
   "execution_count": null,
   "metadata": {
    "scrolled": true
   },
   "outputs": [],
   "source": [
    "plt.figure(figsize=(10, 6))\n",
    "plt.plot(realized_vol / 100,\n",
    "         label='Realized Volatility')\n",
    "plt.plot(bayesian_prediction['Series'] / 100,\n",
    "         label='Volatility Prediction-Bayesian')\n",
    "plt.title('Volatility Prediction with M-H Approach', fontsize=12)\n",
    "plt.legend()\n",
    "plt.show()"
   ]
  }
 ],
 "metadata": {
  "kernelspec": {
   "display_name": "Python 3",
   "language": "python",
   "name": "python3"
  },
  "language_info": {
   "codemirror_mode": {
    "name": "ipython",
    "version": 3
   },
   "file_extension": ".py",
   "mimetype": "text/x-python",
   "name": "python",
   "nbconvert_exporter": "python",
   "pygments_lexer": "ipython3",
   "version": "3.8.8"
  },
  "latex_envs": {
   "LaTeX_envs_menu_present": true,
   "autoclose": false,
   "autocomplete": true,
   "bibliofile": "biblio.bib",
   "cite_by": "apalike",
   "current_citInitial": 1,
   "eqLabelWithNumbers": true,
   "eqNumInitial": 1,
   "hotkeys": {
    "equation": "Ctrl-E",
    "itemize": "Ctrl-I"
   },
   "labels_anchors": false,
   "latex_user_defs": false,
   "report_style_numbering": false,
   "user_envs_cfg": false
  },
  "toc": {
   "base_numbering": 1,
   "nav_menu": {},
   "number_sections": true,
   "sideBar": true,
   "skip_h1_title": false,
   "title_cell": "Table of Contents",
   "title_sidebar": "Contents",
   "toc_cell": false,
   "toc_position": {},
   "toc_section_display": true,
   "toc_window_display": false
  }
 },
 "nbformat": 4,
 "nbformat_minor": 4
}
