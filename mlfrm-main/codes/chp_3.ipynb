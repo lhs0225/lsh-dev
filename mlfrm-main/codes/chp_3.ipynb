{
 "cells": [
  {
   "cell_type": "markdown",
   "id": "exciting-springer",
   "metadata": {},
   "source": [
    "## Recurrent Neural Network"
   ]
  },
  {
   "cell_type": "code",
   "execution_count": null,
   "id": "mineral-doctor",
   "metadata": {},
   "outputs": [],
   "source": [
    "import numpy as np\n",
    "import pandas as pd\n",
    "import math\n",
    "import datetime\n",
    "import yfinance as yf\n",
    "import matplotlib.pyplot as plt\n",
    "import tensorflow as tf\n",
    "from tensorflow.keras.models import Sequential\n",
    "from tensorflow.keras.callbacks import EarlyStopping\n",
    "from tensorflow.keras.layers import (Dense, Dropout, \n",
    "                                     Activation, Flatten, \n",
    "                                     MaxPooling2D, SimpleRNN)\n",
    "from sklearn.model_selection import train_test_split\n",
    "plt.rcParams['figure.dpi'] = 300\n",
    "plt.rcParams['savefig.dpi'] = 300"
   ]
  },
  {
   "cell_type": "code",
   "execution_count": null,
   "id": "adapted-great",
   "metadata": {},
   "outputs": [],
   "source": [
    "n_steps = 13\n",
    "n_features = 1"
   ]
  },
  {
   "cell_type": "code",
   "execution_count": null,
   "id": "distinct-distinction",
   "metadata": {},
   "outputs": [],
   "source": [
    "model = Sequential()\n",
    "model.add(SimpleRNN(512, activation='relu', \n",
    "                    input_shape=(n_steps, n_features),\n",
    "                    return_sequences=True))\n",
    "model.add(Dropout(0.2))\n",
    "model.add(Dense(256, activation = 'relu'))\n",
    "model.add(Flatten())>\n",
    "model.add(Dense(1, activation='linear'))"
   ]
  },
  {
   "cell_type": "code",
   "execution_count": null,
   "id": "subsequent-distinction",
   "metadata": {},
   "outputs": [],
   "source": [
    "model.compile(optimizer='rmsprop',\n",
    "              loss='mean_squared_error',\n",
    "              metrics=['mse'])"
   ]
  },
  {
   "cell_type": "code",
   "execution_count": null,
   "id": "russian-donna",
   "metadata": {},
   "outputs": [],
   "source": [
    "def split_sequence(sequence, n_steps):\n",
    "    X, y = [], []\n",
    "    for i in range(len(sequence)):\n",
    "        end_ix = i + n_steps\n",
    "        if end_ix > len(sequence) - 1:\n",
    "            break\n",
    "        seq_x, seq_y = sequence[i:end_ix], sequence[end_ix]\n",
    "        X.append(seq_x)\n",
    "        y.append(seq_y)\n",
    "    return np.array(X), np.array(y)"
   ]
  },
  {
   "cell_type": "code",
   "execution_count": null,
   "id": "generic-missouri",
   "metadata": {},
   "outputs": [],
   "source": [
    "ticker = ['AAPL', 'MSFT']\n",
    "start = datetime.datetime(2019, 1, 1)\n",
    "end = datetime.datetime(2020, 1 ,1)\n",
    "stock_prices = yf.download(ticker,start=start, end = end, interval='1d')\\\n",
    "               .Close"
   ]
  },
  {
   "cell_type": "code",
   "execution_count": null,
   "id": "informational-steering",
   "metadata": {},
   "outputs": [],
   "source": [
    "diff_stock_prices = stock_prices.diff().dropna()"
   ]
  },
  {
   "cell_type": "code",
   "execution_count": null,
   "id": "moral-knock",
   "metadata": {},
   "outputs": [],
   "source": [
    "split = int(len(diff_stock_prices['AAPL'].values) * 0.95)\n",
    "diff_train_aapl = diff_stock_prices['AAPL'].iloc[:split]\n",
    "diff_test_aapl = diff_stock_prices['AAPL'].iloc[split:]\n",
    "diff_train_msft = diff_stock_prices['MSFT'].iloc[:split]\n",
    "diff_test_msft = diff_stock_prices['MSFT'].iloc[split:]"
   ]
  },
  {
   "cell_type": "code",
   "execution_count": null,
   "id": "obvious-logging",
   "metadata": {},
   "outputs": [],
   "source": [
    "X_aapl, y_aapl = split_sequence(diff_train_aapl, n_steps)\n",
    "X_aapl = X_aapl.reshape((X_aapl.shape[0],  X_aapl.shape[1],\n",
    "                         n_features))"
   ]
  },
  {
   "cell_type": "code",
   "execution_count": null,
   "id": "narrow-department",
   "metadata": {},
   "outputs": [],
   "source": [
    "history = model.fit(X_aapl, y_aapl, \n",
    "                    epochs=400, batch_size=150, verbose=0, \n",
    "                    validation_split = 0.10)"
   ]
  },
  {
   "cell_type": "code",
   "execution_count": null,
   "id": "unlimited-attachment",
   "metadata": {},
   "outputs": [],
   "source": [
    "start = X_aapl[X_aapl.shape[0] - n_steps]\n",
    "x_input = start\n",
    "x_input = x_input.reshape((1, n_steps, n_features))"
   ]
  },
  {
   "cell_type": "code",
   "execution_count": null,
   "id": "experimental-sight",
   "metadata": {},
   "outputs": [],
   "source": [
    "tempList_aapl = []\n",
    "for i in range(len(diff_test_aapl)):\n",
    "    x_input = x_input.reshape((1, n_steps, n_features))\n",
    "    yhat = model.predict(x_input, verbose=0)\n",
    "    x_input = np.append(x_input, yhat)\n",
    "    x_input = x_input[1:]\n",
    "    tempList_aapl.append(yhat)"
   ]
  },
  {
   "cell_type": "code",
   "execution_count": null,
   "id": "appropriate-killer",
   "metadata": {},
   "outputs": [],
   "source": [
    "X_msft, y_msft = split_sequence(diff_train_msft, n_steps)\n",
    "X_msft = X_msft.reshape((X_msft.shape[0],  X_msft.shape[1],\n",
    "                         n_features))"
   ]
  },
  {
   "cell_type": "code",
   "execution_count": null,
   "id": "animated-school",
   "metadata": {},
   "outputs": [],
   "source": [
    "history = model.fit(X_msft, y_msft, \n",
    "                    epochs=400, batch_size=150, verbose=0, \n",
    "                    validation_split = 0.10)"
   ]
  },
  {
   "cell_type": "code",
   "execution_count": null,
   "id": "proprietary-limit",
   "metadata": {},
   "outputs": [],
   "source": [
    "start = X_msft[X_msft.shape[0] - n_steps]\n",
    "x_input = start\n",
    "x_input = x_input.reshape((1, n_steps, n_features))"
   ]
  },
  {
   "cell_type": "code",
   "execution_count": null,
   "id": "invalid-episode",
   "metadata": {},
   "outputs": [],
   "source": [
    "tempList_msft = []\n",
    "for i in range(len(diff_test_msft)):\n",
    "    x_input = x_input.reshape((1, n_steps, n_features))\n",
    "    yhat = model.predict(x_input, verbose=0)\n",
    "    x_input = np.append(x_input, yhat)\n",
    "    x_input = x_input[1:]\n",
    "    tempList_msft.append(yhat)"
   ]
  },
  {
   "cell_type": "code",
   "execution_count": null,
   "id": "hidden-johnston",
   "metadata": {},
   "outputs": [],
   "source": [
    "fig, ax = plt.subplots(2,1, figsize=(18,15))\n",
    "ax[0].plot(diff_test_aapl, label='Actual Stock Price', linestyle='--')\n",
    "ax[0].plot(diff_test_aapl.index, np.array(tempList_aapl).flatten(),\n",
    "           linestyle='solid', label=\"Prediction\")\n",
    "ax[0].set_title('Predicted Stock Price-Apple')\n",
    "ax[0].legend(loc='best')\n",
    "ax[1].plot(diff_test_msft, label='Actual Stock Price', linestyle='--')\n",
    "ax[1].plot(diff_test_msft.index,np.array(tempList_msft).flatten(),\n",
    "           linestyle='solid', label=\"Prediction\")\n",
    "ax[1].set_title('Predicted Stock Price-Microsoft')\n",
    "ax[1].legend(loc='best')\n",
    "\n",
    "\n",
    "for ax in ax.flat:\n",
    "    ax.set(xlabel='Date', ylabel='Differenced Price')\n",
    "plt.show()"
   ]
  },
  {
   "cell_type": "markdown",
   "id": "quiet-concentration",
   "metadata": {},
   "source": [
    "## LSTM"
   ]
  },
  {
   "cell_type": "code",
   "execution_count": null,
   "id": "light-validity",
   "metadata": {},
   "outputs": [],
   "source": [
    "from tensorflow.keras.layers import LSTM\n"
   ]
  },
  {
   "cell_type": "code",
   "execution_count": null,
   "id": "short-advocacy",
   "metadata": {},
   "outputs": [],
   "source": [
    "n_steps = 13\n",
    "n_features = 1"
   ]
  },
  {
   "cell_type": "code",
   "execution_count": null,
   "id": "boring-binding",
   "metadata": {},
   "outputs": [],
   "source": [
    "model = Sequential()\n",
    "model.add(LSTM(512, activation='relu',\n",
    "          input_shape=(n_steps, n_features),\n",
    "          return_sequences=True))\n",
    "model.add(Dropout(0.2))\n",
    "model.add(LSTM(256,activation='relu'))\n",
    "model.add(Flatten())\n",
    "model.add(Dense(1, activation='linear'))"
   ]
  },
  {
   "cell_type": "code",
   "execution_count": null,
   "id": "great-meter",
   "metadata": {},
   "outputs": [],
   "source": [
    "model.compile(optimizer='rmsprop', loss='mean_squared_error',\n",
    "              metrics=['mse'])"
   ]
  },
  {
   "cell_type": "code",
   "execution_count": null,
   "id": "bound-supervisor",
   "metadata": {},
   "outputs": [],
   "source": [
    "history = model.fit(X_aapl, y_aapl, \n",
    "                    epochs=400, batch_size=150, verbose=0, \n",
    "                    validation_split = 0.10)"
   ]
  },
  {
   "cell_type": "code",
   "execution_count": null,
   "id": "graduate-truth",
   "metadata": {},
   "outputs": [],
   "source": [
    "start = X_aapl[X_aapl.shape[0] - 13]\n",
    "x_input = start\n",
    "x_input = x_input.reshape((1, n_steps, n_features))"
   ]
  },
  {
   "cell_type": "code",
   "execution_count": null,
   "id": "polished-internship",
   "metadata": {},
   "outputs": [],
   "source": [
    "tempList_aapl = []\n",
    "for i in range(len(diff_test_aapl)):\n",
    "    x_input = x_input.reshape((1, n_steps, n_features))\n",
    "    yhat = model.predict(x_input, verbose=0)\n",
    "    x_input = np.append(x_input, yhat)\n",
    "    x_input = x_input[1:]\n",
    "    tempList_aapl.append(yhat)"
   ]
  },
  {
   "cell_type": "code",
   "execution_count": null,
   "id": "utility-adaptation",
   "metadata": {},
   "outputs": [],
   "source": [
    "history = model.fit(X_msft, y_msft, \n",
    "                    epochs=400, batch_size=150, verbose=0, \n",
    "                    validation_split = 0.10)"
   ]
  },
  {
   "cell_type": "code",
   "execution_count": null,
   "id": "given-copyright",
   "metadata": {},
   "outputs": [],
   "source": [
    "start = X_msft[X_msft.shape[0] - 13]\n",
    "x_input = start\n",
    "x_input = x_input.reshape((1, n_steps, n_features))"
   ]
  },
  {
   "cell_type": "code",
   "execution_count": null,
   "id": "adjusted-discipline",
   "metadata": {},
   "outputs": [],
   "source": [
    "tempList_msft = []\n",
    "for i in range(len(diff_test_msft)):\n",
    "    x_input = x_input.reshape((1, n_steps, n_features))\n",
    "    yhat = model.predict(x_input, verbose=0)\n",
    "    x_input = np.append(x_input, yhat)\n",
    "    x_input = x_input[1:]\n",
    "    tempList_msft.append(yhat)"
   ]
  },
  {
   "cell_type": "code",
   "execution_count": null,
   "id": "hispanic-labor",
   "metadata": {
    "scrolled": true
   },
   "outputs": [],
   "source": [
    "fig, ax = plt.subplots(2, 1, figsize=(18, 15))\n",
    "ax[0].plot(diff_test_aapl, label='Actual Stock Price', linestyle='--')\n",
    "ax[0].plot(diff_test_aapl.index, np.array(tempList_aapl).flatten(),\n",
    "           linestyle='solid', label=\"Prediction\")\n",
    "ax[0].set_title('Predicted Stock Price-Apple')\n",
    "ax[0].legend(loc='best')\n",
    "ax[1].plot(diff_test_msft, label='Actual Stock Price', linestyle='--')\n",
    "ax[1].plot(diff_test_msft.index, np.array(tempList_msft).flatten(),\n",
    "           linestyle='solid', label=\"Prediction\")\n",
    "ax[1].set_title('Predicted Stock Price-Microsoft')\n",
    "ax[1].legend(loc='best')\n",
    "\n",
    "for ax in ax.flat:\n",
    "    ax.set(xlabel='Date', ylabel='$')\n",
    "plt.show()"
   ]
  }
 ],
 "metadata": {
  "kernelspec": {
   "display_name": "Python 3",
   "language": "python",
   "name": "python3"
  },
  "language_info": {
   "codemirror_mode": {
    "name": "ipython",
    "version": 3
   },
   "file_extension": ".py",
   "mimetype": "text/x-python",
   "name": "python",
   "nbconvert_exporter": "python",
   "pygments_lexer": "ipython3",
   "version": "3.8.8"
  },
  "latex_envs": {
   "LaTeX_envs_menu_present": true,
   "autoclose": false,
   "autocomplete": true,
   "bibliofile": "biblio.bib",
   "cite_by": "apalike",
   "current_citInitial": 1,
   "eqLabelWithNumbers": true,
   "eqNumInitial": 1,
   "hotkeys": {
    "equation": "Ctrl-E",
    "itemize": "Ctrl-I"
   },
   "labels_anchors": false,
   "latex_user_defs": false,
   "report_style_numbering": false,
   "user_envs_cfg": false
  },
  "toc": {
   "base_numbering": 1,
   "nav_menu": {},
   "number_sections": true,
   "sideBar": true,
   "skip_h1_title": false,
   "title_cell": "Table of Contents",
   "title_sidebar": "Contents",
   "toc_cell": false,
   "toc_position": {},
   "toc_section_display": true,
   "toc_window_display": false
  }
 },
 "nbformat": 4,
 "nbformat_minor": 5
}
