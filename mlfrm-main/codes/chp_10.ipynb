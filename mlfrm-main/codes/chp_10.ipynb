{
 "cells": [
  {
   "cell_type": "markdown",
   "id": "9d94387d",
   "metadata": {},
   "source": [
    "# Synthetic Data Generation"
   ]
  },
  {
   "cell_type": "markdown",
   "id": "c4bf2152",
   "metadata": {},
   "source": [
    "### Synthetic data from real data"
   ]
  },
  {
   "cell_type": "code",
   "execution_count": null,
   "id": "e15547c9",
   "metadata": {},
   "outputs": [],
   "source": [
    "from sklearn.datasets import fetch_california_housing\n",
    "import pandas as pd\n",
    "import numpy as np\n",
    "import matplotlib. pyplot as plt\n",
    "import yfinance as yf\n",
    "import datetime\n",
    "import warnings\n",
    "warnings.filterwarnings('ignore')\n",
    "plt.rcParams['figure.dpi'] = 300\n",
    "plt.rcParams['savefig.dpi'] = 300"
   ]
  },
  {
   "cell_type": "code",
   "execution_count": null,
   "id": "eb4372d3",
   "metadata": {},
   "outputs": [],
   "source": [
    "X, y = fetch_california_housing(return_X_y=True)"
   ]
  },
  {
   "cell_type": "code",
   "execution_count": null,
   "id": "a89d8166",
   "metadata": {},
   "outputs": [],
   "source": [
    "import numpy as np\n",
    "california_housing=np.column_stack([X, y])\n",
    "california_housing_df=pd.DataFrame(california_housing)"
   ]
  },
  {
   "cell_type": "code",
   "execution_count": null,
   "id": "3be1ef00",
   "metadata": {},
   "outputs": [],
   "source": [
    "from ctgan import CTGANSynthesizer\n",
    "\n",
    "ctgan = CTGANSynthesizer(epochs=10)\n",
    "ctgan.fit(california_housing_df)\n",
    "synt_sample = ctgan.sample(len(california_housing_df))"
   ]
  },
  {
   "cell_type": "code",
   "execution_count": null,
   "id": "2d195987",
   "metadata": {},
   "outputs": [],
   "source": [
    "california_housing_df.describe()"
   ]
  },
  {
   "cell_type": "code",
   "execution_count": null,
   "id": "753f84fc",
   "metadata": {},
   "outputs": [],
   "source": [
    "synt_sample.describe()"
   ]
  },
  {
   "cell_type": "code",
   "execution_count": null,
   "id": "f3abe89f",
   "metadata": {},
   "outputs": [],
   "source": [
    "from sdv.evaluation import evaluate\n",
    "\n",
    "evaluate(synt_sample, california_housing_df)"
   ]
  },
  {
   "cell_type": "code",
   "execution_count": null,
   "id": "4ed12311",
   "metadata": {},
   "outputs": [],
   "source": [
    "from table_evaluator import TableEvaluator\n",
    "\n",
    "table_evaluator =  TableEvaluator(california_housing_df, synt_sample)\n",
    "\n",
    "table_evaluator.visual_evaluation()"
   ]
  },
  {
   "cell_type": "markdown",
   "id": "8f6abe40",
   "metadata": {},
   "source": [
    "### Synthetic data from model"
   ]
  },
  {
   "cell_type": "code",
   "execution_count": null,
   "id": "a17caa4f",
   "metadata": {},
   "outputs": [],
   "source": [
    "from sklearn.datasets import make_regression\n",
    "import matplotlib.pyplot as plt\n",
    "from matplotlib import cm"
   ]
  },
  {
   "cell_type": "code",
   "execution_count": null,
   "id": "6b6fed38",
   "metadata": {},
   "outputs": [],
   "source": [
    "X, y = make_regression(n_samples=1000, n_features=3, noise=0.2,\n",
    "                       random_state=123)\n",
    "\n",
    "plt.scatter(X[:, 0], X[:, 1], alpha= 0.3, cmap='Greys', c=y)"
   ]
  },
  {
   "cell_type": "code",
   "execution_count": null,
   "id": "6d82677e",
   "metadata": {},
   "outputs": [],
   "source": [
    "plt.figure(figsize=(18, 18))\n",
    "k = 0\n",
    "\n",
    "for i in range(0, 10):\n",
    "    X, y = make_regression(n_samples=100, n_features=3, noise=i,\n",
    "                           random_state=123) \n",
    "    k+=1\n",
    "    plt.subplot(5, 2, k)\n",
    "    profit_margin_orange = np.asarray([20, 35, 40])\n",
    "    plt.scatter(X[:, 0], X[:, 1], alpha=0.3, cmap=cm.Greys, c=y)\n",
    "    plt.title('Synthetic Data with Different Noises: ' + str(i))\n",
    "plt.show()"
   ]
  },
  {
   "cell_type": "code",
   "execution_count": null,
   "id": "2865b966",
   "metadata": {},
   "outputs": [],
   "source": [
    "from sklearn.datasets import make_classification"
   ]
  },
  {
   "cell_type": "code",
   "execution_count": null,
   "id": "e6d249dc",
   "metadata": {},
   "outputs": [],
   "source": [
    "plt.figure(figsize=(18, 18))\n",
    "k = 0\n",
    "\n",
    "for i in range(2, 6):\n",
    "    X, y = make_classification(n_samples=100,\n",
    "                               n_features=4,\n",
    "                               n_classes=i,\n",
    "                               n_redundant=0,\n",
    "                               n_informative=4,\n",
    "                               random_state=123)\n",
    "    k+=1\n",
    "    plt.subplot(2, 2, k)\n",
    "    plt.scatter(X[: ,0], X[:, 1], alpha=0.8, cmap='gray', c=y)\n",
    "    plt.title('Synthetic Data with Different Classes: ' + str(i))\n",
    "plt.show()"
   ]
  },
  {
   "cell_type": "markdown",
   "id": "f1b543a0",
   "metadata": {},
   "source": [
    "## Synthetic Data for Unsupervised Learning"
   ]
  },
  {
   "cell_type": "code",
   "execution_count": null,
   "id": "d7601cd9",
   "metadata": {},
   "outputs": [],
   "source": [
    "from sklearn.datasets import make_blobs"
   ]
  },
  {
   "cell_type": "code",
   "execution_count": null,
   "id": "715ab91e",
   "metadata": {},
   "outputs": [],
   "source": [
    "X, y = make_blobs(n_samples=100, centers=2, \n",
    "                      n_features=2, random_state=0)"
   ]
  },
  {
   "cell_type": "code",
   "execution_count": null,
   "id": "459ec07c",
   "metadata": {
    "scrolled": true
   },
   "outputs": [],
   "source": [
    "plt.figure(figsize=(18, 18))\n",
    "k = 0\n",
    "for i in range(2, 6):\n",
    "    X, y = make_blobs(n_samples=100, centers=i,\n",
    "                      n_features=2, random_state=0)\n",
    "    k += 1\n",
    "    plt.subplot(2, 2, k)\n",
    "    my_scatter_plot = plt.scatter(X[:, 0], X[:, 1],\n",
    "                                  alpha=0.3, cmap='gray', c=y)\n",
    "    plt.title('Synthetic Data with Different Clusters: ' + str(i))\n",
    "plt.show()"
   ]
  },
  {
   "cell_type": "markdown",
   "id": "16258b7a",
   "metadata": {},
   "source": [
    "## HMM"
   ]
  },
  {
   "cell_type": "code",
   "execution_count": null,
   "id": "1c46f351",
   "metadata": {},
   "outputs": [],
   "source": [
    "ff = pd.read_csv('datasets/FF3.csv', skiprows=4)\n",
    "ff = ff.rename(columns={'Unnamed: 0': 'Date'})\n",
    "ff = ff.iloc[:-1]\n",
    "ff.head()"
   ]
  },
  {
   "cell_type": "code",
   "execution_count": null,
   "id": "e14b804b",
   "metadata": {},
   "outputs": [],
   "source": [
    "ff.info()"
   ]
  },
  {
   "cell_type": "code",
   "execution_count": null,
   "id": "39442b02",
   "metadata": {},
   "outputs": [],
   "source": [
    "ff['Date'] = pd.to_datetime(ff['Date'])\n",
    "ff.set_index('Date', inplace=True)\n",
    "ff_trim = ff.loc['2000-01-01':]"
   ]
  },
  {
   "cell_type": "code",
   "execution_count": null,
   "id": "51699036",
   "metadata": {},
   "outputs": [],
   "source": [
    "ff_trim.head()"
   ]
  },
  {
   "cell_type": "code",
   "execution_count": null,
   "id": "1acb838b",
   "metadata": {},
   "outputs": [],
   "source": [
    "ticker = 'SPY'\n",
    "start = datetime.datetime(2000, 1, 3)\n",
    "end = datetime.datetime(2021, 4, 30)\n",
    "SP_ETF = yf.download(ticker, start, end, interval='1d').Close"
   ]
  },
  {
   "cell_type": "code",
   "execution_count": null,
   "id": "a4080d52",
   "metadata": {},
   "outputs": [],
   "source": [
    "ff_merge = pd.merge(ff_trim, SP_ETF, how='inner', on='Date')"
   ]
  },
  {
   "cell_type": "code",
   "execution_count": null,
   "id": "7740f0bd",
   "metadata": {},
   "outputs": [],
   "source": [
    "SP = pd.DataFrame()\n",
    "SP['Close']= ff_merge['Close']"
   ]
  },
  {
   "cell_type": "code",
   "execution_count": null,
   "id": "2edfb00b",
   "metadata": {
    "scrolled": true
   },
   "outputs": [],
   "source": [
    "SP['return'] = (SP['Close'] / SP['Close'].shift(1))-1"
   ]
  },
  {
   "cell_type": "code",
   "execution_count": null,
   "id": "d7760a2f",
   "metadata": {},
   "outputs": [],
   "source": [
    "from hmmlearn import hmm"
   ]
  },
  {
   "cell_type": "code",
   "execution_count": null,
   "id": "06dfcf72",
   "metadata": {},
   "outputs": [],
   "source": [
    "hmm_model = hmm.GaussianHMM(n_components=3,\n",
    "                            covariance_type=\"full\",\n",
    "                            n_iter=100)"
   ]
  },
  {
   "cell_type": "code",
   "execution_count": null,
   "id": "652b909f",
   "metadata": {},
   "outputs": [],
   "source": [
    "hmm_model.fit(np.array(SP['return'].dropna()).reshape(-1, 1))\n",
    "hmm_predict = hmm_model.predict(np.array(SP['return'].dropna())\n",
    "                                .reshape(-1, 1))\n",
    "df_hmm = pd.DataFrame(hmm_predict)"
   ]
  },
  {
   "cell_type": "code",
   "execution_count": null,
   "id": "cf3f93fe",
   "metadata": {},
   "outputs": [],
   "source": [
    "ret_merged = pd.concat([df_hmm,SP['return'].dropna().reset_index()],\n",
    "                       axis=1)\n",
    "ret_merged.drop('Date',axis=1, inplace=True)\n",
    "ret_merged.rename(columns={0:'states'}, inplace=True)\n",
    "ret_merged.dropna().head()"
   ]
  },
  {
   "cell_type": "code",
   "execution_count": null,
   "id": "b1c16930",
   "metadata": {},
   "outputs": [],
   "source": [
    "ret_merged['states'].value_counts()"
   ]
  },
  {
   "cell_type": "code",
   "execution_count": null,
   "id": "0338d6d6",
   "metadata": {},
   "outputs": [],
   "source": [
    "state_means = []\n",
    "state_std = []\n",
    "\n",
    "for i in range(3):\n",
    "    state_means.append(ret_merged[ret_merged.states == i]['return']\n",
    "                       .mean())\n",
    "    state_std.append(ret_merged[ret_merged.states == i]['return']\n",
    "                     .std())\n",
    "print('State Means are: {}'.format(state_means))\n",
    "print('State Standard Deviations are: {}'.format(state_std))"
   ]
  },
  {
   "cell_type": "code",
   "execution_count": null,
   "id": "bd141016",
   "metadata": {},
   "outputs": [],
   "source": [
    "print(f'HMM means\\n {hmm_model.means_}')\n",
    "print(f'HMM covariances\\n {hmm_model.covars_}')\n",
    "print(f'HMM transition matrix\\n {hmm_model.transmat_}')\n",
    "print(f'HMM initial probability\\n {hmm_model.startprob_}')"
   ]
  },
  {
   "cell_type": "code",
   "execution_count": null,
   "id": "4d3adf16",
   "metadata": {},
   "outputs": [],
   "source": [
    "sp_ret = SP['return'].dropna().values.reshape(-1,1)\n",
    "n_components = np.arange(1, 10)\n",
    "clusters = [hmm.GaussianHMM(n_components=n, \n",
    "                            covariance_type=\"full\").fit(sp_ret)\n",
    "           for n in n_components]\n",
    "plt.plot(n_components, [m.score(np.array(SP['return'].dropna())\\\n",
    "                                .reshape(-1,1)) for m in clusters])\n",
    "plt.title('Optimum Number of States')\n",
    "plt.xlabel('n_components')\n",
    "plt.ylabel('Log Likelihood')"
   ]
  },
  {
   "cell_type": "code",
   "execution_count": null,
   "id": "1a6f7bcf",
   "metadata": {},
   "outputs": [],
   "source": [
    "hmm_model = hmm.GaussianHMM(n_components=3, \n",
    "                        covariance_type=\"full\", \n",
    "                        random_state=123).fit(sp_ret)\n",
    "hidden_states = hmm_model.predict(sp_ret)"
   ]
  },
  {
   "cell_type": "code",
   "execution_count": null,
   "id": "8d276d64",
   "metadata": {},
   "outputs": [],
   "source": [
    "from matplotlib.dates import YearLocator, MonthLocator\n",
    "from matplotlib import cm"
   ]
  },
  {
   "cell_type": "code",
   "execution_count": null,
   "id": "64648060",
   "metadata": {},
   "outputs": [],
   "source": [
    "df_sp_ret = SP['return'].dropna()\n",
    "\n",
    "hmm_model = hmm.GaussianHMM(n_components=3, \n",
    "                            covariance_type=\"full\", \n",
    "                            random_state=123).fit(sp_ret)\n",
    "\n",
    "hidden_states = hmm_model.predict(sp_ret)\n",
    "\n",
    "fig, axs = plt.subplots(hmm_model.n_components, sharex=True,\n",
    "                        sharey=True, figsize=(12, 9))\n",
    "colors = cm.gray(np.linspace(0, 0.7, hmm_model.n_components))\n",
    "\n",
    "for i, (ax, color) in enumerate(zip(axs, colors)):\n",
    "    mask = hidden_states == i\n",
    "    ax.plot_date(df_sp_ret.index.values[mask],\n",
    "                 df_sp_ret.values[mask],\n",
    "                 \".-\", c=color)\n",
    "    ax.set_title(\"Hidden state {}\".format(i + 1), fontsize=16)\n",
    "    ax.xaxis.set_minor_locator(MonthLocator())\n",
    "plt.tight_layout()"
   ]
  },
  {
   "cell_type": "code",
   "execution_count": null,
   "id": "0f3bc462",
   "metadata": {},
   "outputs": [],
   "source": [
    "ret_merged.groupby('states')['return'].mean()"
   ]
  },
  {
   "cell_type": "markdown",
   "id": "315b6180",
   "metadata": {},
   "source": [
    "## Fama-French Model vs. HMM"
   ]
  },
  {
   "cell_type": "code",
   "execution_count": null,
   "id": "5f3574be",
   "metadata": {},
   "outputs": [],
   "source": [
    "ff_merge['return'] = ff_merge['Close'].pct_change()\n",
    "ff_merge.dropna(inplace=True)"
   ]
  },
  {
   "cell_type": "code",
   "execution_count": null,
   "id": "d2b35ffe",
   "metadata": {},
   "outputs": [],
   "source": [
    "split = int(len(ff_merge) * 0.9)\n",
    "train_ff= ff_merge.iloc[:split].dropna()\n",
    "test_ff = ff_merge.iloc[split:].dropna()"
   ]
  },
  {
   "cell_type": "code",
   "execution_count": null,
   "id": "b656a45f",
   "metadata": {},
   "outputs": [],
   "source": [
    "hmm_model = hmm.GaussianHMM(n_components=3,\n",
    "                            covariance_type=\"full\",\n",
    "                            n_iter=100, init_params=\" \")"
   ]
  },
  {
   "cell_type": "code",
   "execution_count": null,
   "id": "8cd9f8f5",
   "metadata": {},
   "outputs": [],
   "source": [
    "predictions = []\n",
    "\n",
    "for i in range(len(test_ff)):\n",
    "    hmm_model.fit(train_ff)\n",
    "    adjustment = np.dot(hmm_model.transmat_, hmm_model.means_)\n",
    "    predictions.append(test_ff.iloc[i] + adjustment[0])\n",
    "predictions = pd.DataFrame(predictions)"
   ]
  },
  {
   "cell_type": "code",
   "execution_count": null,
   "id": "3d0df7ea",
   "metadata": {},
   "outputs": [],
   "source": [
    "std_dev = predictions['return'].std()\n",
    "sharpe = predictions['return'].mean() / std_dev\n",
    "print('Sharpe ratio with HMM is {:.4f}'.format(sharpe))"
   ]
  },
  {
   "cell_type": "markdown",
   "id": "82993b8a",
   "metadata": {},
   "source": [
    "## Fama-French Model with OLS"
   ]
  },
  {
   "cell_type": "code",
   "execution_count": null,
   "id": "c195097c",
   "metadata": {},
   "outputs": [],
   "source": [
    "import statsmodels.api as sm"
   ]
  },
  {
   "cell_type": "code",
   "execution_count": null,
   "id": "a9c57902",
   "metadata": {},
   "outputs": [],
   "source": [
    "Y = train_ff['return']\n",
    "X = train_ff[['Mkt-RF', 'SMB', 'HML']]"
   ]
  },
  {
   "cell_type": "code",
   "execution_count": null,
   "id": "6bcec34d",
   "metadata": {},
   "outputs": [],
   "source": [
    "model = sm.OLS(Y, X)\n",
    "ff_ols = model.fit()\n",
    "print(ff_ols.summary())"
   ]
  },
  {
   "cell_type": "code",
   "execution_count": null,
   "id": "dc59afd3",
   "metadata": {},
   "outputs": [],
   "source": [
    "ff_pred = ff_ols.predict(test_ff[[\"Mkt-RF\", \"SMB\", \"HML\"]])\n",
    "ff_pred.head()"
   ]
  },
  {
   "cell_type": "code",
   "execution_count": null,
   "id": "70e91c46",
   "metadata": {},
   "outputs": [],
   "source": [
    "std_dev = ff_pred.std()\n",
    "sharpe = ff_pred.mean() / std_dev\n",
    "print('Sharpe ratio with FF 3 factor model is {:.4f}'.format(sharpe))"
   ]
  },
  {
   "cell_type": "code",
   "execution_count": null,
   "id": "94dd1023",
   "metadata": {},
   "outputs": [],
   "source": [
    "split = int(len(SP['return']) * 0.9)\n",
    "train_ret_SP = SP['return'].iloc[split:].dropna()\n",
    "test_ret_SP = SP['return'].iloc[:split].dropna()"
   ]
  },
  {
   "cell_type": "code",
   "execution_count": null,
   "id": "afc83e38",
   "metadata": {},
   "outputs": [],
   "source": [
    "hmm_model = hmm.GaussianHMM(n_components=3,\n",
    "                            covariance_type=\"full\",\n",
    "                            n_iter=100)\n",
    "hmm_model.fit(np.array(train_ret_SP).reshape(-1, 1))\n",
    "hmm_predict_vol = hmm_model.predict(np.array(test_ret_SP)\n",
    "                                    .reshape(-1, 1))\n",
    "pd.DataFrame(hmm_predict_vol).value_counts()"
   ]
  },
  {
   "cell_type": "markdown",
   "id": "41a110d6",
   "metadata": {},
   "source": [
    "## Synthetic Data Generation and Hidden Markov"
   ]
  },
  {
   "cell_type": "code",
   "execution_count": null,
   "id": "24aed2a5",
   "metadata": {},
   "outputs": [],
   "source": [
    "startprob = hmm_model.startprob_\n",
    "transmat = hmm_model.transmat_\n",
    "means = hmm_model.means_ \n",
    "covars = hmm_model.covars_"
   ]
  },
  {
   "cell_type": "code",
   "execution_count": null,
   "id": "81f550c3",
   "metadata": {},
   "outputs": [],
   "source": [
    "syn_hmm = hmm.GaussianHMM(n_components=3, covariance_type=\"full\")"
   ]
  },
  {
   "cell_type": "code",
   "execution_count": null,
   "id": "2b28defb",
   "metadata": {},
   "outputs": [],
   "source": [
    "syn_hmm.startprob_ = startprob\n",
    "syn_hmm.transmat_ = transmat \n",
    "syn_hmm.means_ = means \n",
    "syn_hmm.covars_ = covars"
   ]
  },
  {
   "cell_type": "code",
   "execution_count": null,
   "id": "6a7992d1",
   "metadata": {},
   "outputs": [],
   "source": [
    "syn_data, _ = syn_hmm.sample(n_samples=1000)"
   ]
  },
  {
   "cell_type": "code",
   "execution_count": null,
   "id": "772ca78a",
   "metadata": {},
   "outputs": [],
   "source": [
    "plt.hist(syn_data)\n",
    "plt.title('Histogram of Synthetic Data')\n",
    "plt.show()"
   ]
  },
  {
   "cell_type": "code",
   "execution_count": null,
   "id": "f59b8002",
   "metadata": {},
   "outputs": [],
   "source": [
    "plt.plot(syn_data, \"--\")\n",
    "plt.title('Line Plot of Synthetic Data')\n",
    "plt.show()"
   ]
  }
 ],
 "metadata": {
  "kernelspec": {
   "display_name": "Python 3",
   "language": "python",
   "name": "python3"
  },
  "language_info": {
   "codemirror_mode": {
    "name": "ipython",
    "version": 3
   },
   "file_extension": ".py",
   "mimetype": "text/x-python",
   "name": "python",
   "nbconvert_exporter": "python",
   "pygments_lexer": "ipython3",
   "version": "3.8.8"
  },
  "latex_envs": {
   "LaTeX_envs_menu_present": true,
   "autoclose": false,
   "autocomplete": true,
   "bibliofile": "biblio.bib",
   "cite_by": "apalike",
   "current_citInitial": 1,
   "eqLabelWithNumbers": true,
   "eqNumInitial": 1,
   "hotkeys": {
    "equation": "Ctrl-E",
    "itemize": "Ctrl-I"
   },
   "labels_anchors": false,
   "latex_user_defs": false,
   "report_style_numbering": false,
   "user_envs_cfg": false
  },
  "toc": {
   "base_numbering": 1,
   "nav_menu": {},
   "number_sections": false,
   "sideBar": true,
   "skip_h1_title": false,
   "title_cell": "Table of Contents",
   "title_sidebar": "Contents",
   "toc_cell": false,
   "toc_position": {},
   "toc_section_display": true,
   "toc_window_display": false
  }
 },
 "nbformat": 4,
 "nbformat_minor": 5
}
