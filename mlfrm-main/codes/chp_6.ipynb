{
 "cells": [
  {
   "cell_type": "code",
   "execution_count": null,
   "metadata": {},
   "outputs": [],
   "source": [
    "import pandas as pd\n",
    "import matplotlib.pyplot as plt\n",
    "plt.rcParams['figure.dpi'] = 300\n",
    "plt.rcParams['savefig.dpi'] = 300"
   ]
  },
  {
   "cell_type": "code",
   "execution_count": null,
   "metadata": {},
   "outputs": [],
   "source": [
    "credit = pd.read_csv('datasets/credit_data_risk.csv')"
   ]
  },
  {
   "cell_type": "code",
   "execution_count": null,
   "metadata": {},
   "outputs": [],
   "source": [
    "credit.head()"
   ]
  },
  {
   "cell_type": "code",
   "execution_count": null,
   "metadata": {},
   "outputs": [],
   "source": [
    "del credit['Unnamed: 0']"
   ]
  },
  {
   "cell_type": "code",
   "execution_count": null,
   "metadata": {},
   "outputs": [],
   "source": [
    "credit.describe()"
   ]
  },
  {
   "cell_type": "code",
   "execution_count": null,
   "metadata": {},
   "outputs": [],
   "source": [
    "import matplotlib.pyplot as plt\n",
    "import seaborn as sns; sns.set()\n",
    "plt.rcParams[\"figure.figsize\"] = (10,6)"
   ]
  },
  {
   "cell_type": "code",
   "execution_count": null,
   "metadata": {},
   "outputs": [],
   "source": [
    "numerical_credit = credit.select_dtypes(exclude='O')"
   ]
  },
  {
   "cell_type": "code",
   "execution_count": null,
   "metadata": {},
   "outputs": [],
   "source": [
    "plt.figure(figsize=(10, 8))\n",
    "k = 0\n",
    "cols = numerical_credit.columns\n",
    "for i, j in zip(range(len(cols)), cols):\n",
    "    k +=1\n",
    "    plt.subplot(2, 2, k)\n",
    "    plt.hist(numerical_credit.iloc[:, i])\n",
    "    plt.title(j)"
   ]
  },
  {
   "cell_type": "code",
   "execution_count": null,
   "metadata": {},
   "outputs": [],
   "source": [
    "from sklearn.preprocessing import StandardScaler\n",
    "from sklearn.cluster import KMeans\n",
    "import numpy as np"
   ]
  },
  {
   "cell_type": "code",
   "execution_count": null,
   "metadata": {},
   "outputs": [],
   "source": [
    "scaler = StandardScaler()\n",
    "scaled_credit = scaler.fit_transform(numerical_credit)"
   ]
  },
  {
   "cell_type": "code",
   "execution_count": null,
   "metadata": {},
   "outputs": [],
   "source": [
    "distance = []\n",
    "for k in range(1, 10):\n",
    "    kmeans = KMeans(n_clusters=k)\n",
    "    kmeans.fit(scaled_credit)\n",
    "    distance.append(kmeans.inertia_)"
   ]
  },
  {
   "cell_type": "code",
   "execution_count": null,
   "metadata": {},
   "outputs": [],
   "source": [
    "plt.plot(range(1, 10), distance, 'bx-')\n",
    "plt.xlabel('k')\n",
    "plt.ylabel('Inertia')\n",
    "plt.title('The Elbow Method')\n",
    "plt.show()"
   ]
  },
  {
   "cell_type": "code",
   "execution_count": null,
   "metadata": {},
   "outputs": [],
   "source": [
    "from sklearn.metrics import silhouette_score\n",
    "from yellowbrick.cluster import SilhouetteVisualizer"
   ]
  },
  {
   "cell_type": "code",
   "execution_count": null,
   "metadata": {},
   "outputs": [],
   "source": [
    "fig, ax = plt.subplots(4, 2, figsize=(25, 20))\n",
    "for i in range(2, 10):\n",
    "    km = KMeans(n_clusters=i)\n",
    "    q, r = divmod(i, 2)\n",
    "    visualizer = SilhouetteVisualizer(km, colors='yellowbrick',\n",
    "                                      ax=ax[q - 1][r])\n",
    "    visualizer.fit(scaled_credit)\n",
    "    ax[q - 1][r].set_title(\"For Cluster_\"+str(i))\n",
    "    ax[q - 1][r].set_xlabel(\"Silhouette Score\")"
   ]
  },
  {
   "cell_type": "code",
   "execution_count": null,
   "metadata": {},
   "outputs": [],
   "source": [
    "from yellowbrick.cluster import KElbowVisualizer\n",
    "model = KMeans()\n",
    "visualizer = KElbowVisualizer(model, k=(2, 10),\n",
    "                              metric='calinski_harabasz',\n",
    "                              timings=False)\n",
    "visualizer.fit(scaled_credit)\n",
    "visualizer.show();"
   ]
  },
  {
   "cell_type": "code",
   "execution_count": null,
   "metadata": {},
   "outputs": [],
   "source": [
    "from gap_statistic.optimalK import OptimalK"
   ]
  },
  {
   "cell_type": "code",
   "execution_count": null,
   "metadata": {},
   "outputs": [],
   "source": [
    "optimalK = OptimalK(n_jobs=8, parallel_backend='joblib')\n",
    "n_clusters = optimalK(scaled_credit, cluster_array=np.arange(1, 10))"
   ]
  },
  {
   "cell_type": "code",
   "execution_count": null,
   "metadata": {},
   "outputs": [],
   "source": [
    "gap_result = optimalK.gap_df\n",
    "gap_result.head()"
   ]
  },
  {
   "cell_type": "code",
   "execution_count": null,
   "metadata": {
    "scrolled": true
   },
   "outputs": [],
   "source": [
    "plt.plot(gap_result.n_clusters, gap_result.gap_value)\n",
    "min_ylim, max_ylim = plt.ylim()\n",
    "plt.axhline(np.max(gap_result.gap_value), color='r',\n",
    "            linestyle='dashed', linewidth=2)\n",
    "plt.title('Gap Analysis')\n",
    "plt.xlabel('Number of Cluster')\n",
    "plt.ylabel('Gap Value')\n",
    "plt.show()"
   ]
  },
  {
   "cell_type": "code",
   "execution_count": null,
   "metadata": {},
   "outputs": [],
   "source": [
    "kmeans = KMeans(n_clusters=2)\n",
    "clusters = kmeans.fit_predict(scaled_credit)"
   ]
  },
  {
   "cell_type": "code",
   "execution_count": null,
   "metadata": {},
   "outputs": [],
   "source": [
    "plt.figure(figsize=(10, 12))\n",
    "plt.subplot(311)\n",
    "plt.scatter(scaled_credit[:, 0], scaled_credit[:, 2],\n",
    "            c=kmeans.labels_, cmap='viridis')\n",
    "plt.scatter(kmeans.cluster_centers_[:, 0],\n",
    "            kmeans.cluster_centers_[:, 2], s = 80,\n",
    "            marker= 'x', color = 'k')\n",
    "plt.title('Age vs Credit')\n",
    "plt.subplot(312)\n",
    "plt.scatter(scaled_credit[:, 0], scaled_credit[:, 2],\n",
    "            c=kmeans.labels_, cmap='viridis')\n",
    "plt.scatter(kmeans.cluster_centers_[:, 0],\n",
    "            kmeans.cluster_centers_[:, 2], s = 80,\n",
    "            marker= 'x', color = 'k')\n",
    "plt.title('Credit vs Duration')\n",
    "plt.subplot(313)\n",
    "plt.scatter(scaled_credit[:, 2], scaled_credit[:, 3],\n",
    "            c=kmeans.labels_, cmap='viridis')\n",
    "plt.scatter(kmeans.cluster_centers_[:, 2],\n",
    "            kmeans.cluster_centers_[:, 3], s = 120,\n",
    "            marker= 'x', color = 'k')\n",
    "plt.title('Age vs Duration')\n",
    "plt.show()"
   ]
  },
  {
   "cell_type": "code",
   "execution_count": null,
   "metadata": {},
   "outputs": [],
   "source": [
    "clusters, counts = np.unique(kmeans.labels_, return_counts=True)"
   ]
  },
  {
   "cell_type": "code",
   "execution_count": null,
   "metadata": {},
   "outputs": [],
   "source": [
    "cluster_dict = {}\n",
    "for i in range(len(clusters)):\n",
    "    cluster_dict[i] = scaled_credit[np.where(kmeans.labels_==i)]"
   ]
  },
  {
   "cell_type": "code",
   "execution_count": null,
   "metadata": {},
   "outputs": [],
   "source": [
    "credit['clusters'] = pd.DataFrame(kmeans.labels_)"
   ]
  },
  {
   "cell_type": "code",
   "execution_count": null,
   "metadata": {},
   "outputs": [],
   "source": [
    "df_scaled = pd.DataFrame(scaled_credit)\n",
    "df_scaled['clusters'] = credit['clusters']"
   ]
  },
  {
   "cell_type": "code",
   "execution_count": null,
   "metadata": {},
   "outputs": [],
   "source": [
    "df_scaled['Risk'] = credit['Risk']\n",
    "df_scaled.columns = ['Age', 'Job', 'Credit amount',\n",
    "                     'Duration', 'Clusters', 'Risk']"
   ]
  },
  {
   "cell_type": "code",
   "execution_count": null,
   "metadata": {},
   "outputs": [],
   "source": [
    "df_scaled[df_scaled.Clusters == 0]['Risk'].value_counts()"
   ]
  },
  {
   "cell_type": "code",
   "execution_count": null,
   "metadata": {},
   "outputs": [],
   "source": [
    "df_scaled[df_scaled.Clusters == 1]['Risk'].value_counts()"
   ]
  },
  {
   "cell_type": "code",
   "execution_count": null,
   "metadata": {},
   "outputs": [],
   "source": [
    "df_scaled[df_scaled.Clusters == 0]['Risk'].value_counts()\\\n",
    "                                    .plot(kind='bar',\n",
    "                                    figsize=(10, 6),\n",
    "                                    title=\"Frequency of Risk Level\")\n",
    "plt.show()"
   ]
  },
  {
   "cell_type": "code",
   "execution_count": null,
   "metadata": {},
   "outputs": [],
   "source": [
    "df_scaled[df_scaled.Clusters == 1]['Risk'].value_counts()\\\n",
    "                                    .plot(kind='bar',\n",
    "                                    figsize=(10, 6),\n",
    "                                    title=\"Frequency of Risk Level\")\n",
    "plt.show()"
   ]
  },
  {
   "cell_type": "code",
   "execution_count": null,
   "metadata": {},
   "outputs": [],
   "source": [
    "from sklearn.model_selection import train_test_split"
   ]
  },
  {
   "cell_type": "code",
   "execution_count": null,
   "metadata": {},
   "outputs": [],
   "source": [
    "df_scaled['Risk'] = df_scaled['Risk'].replace({'good': 1, 'bad': 0})"
   ]
  },
  {
   "cell_type": "code",
   "execution_count": null,
   "metadata": {},
   "outputs": [],
   "source": [
    "X = df_scaled.drop('Risk', axis=1)\n",
    "y = df_scaled.loc[:, ['Risk', 'Clusters']]"
   ]
  },
  {
   "cell_type": "code",
   "execution_count": null,
   "metadata": {},
   "outputs": [],
   "source": [
    "X_train, X_test, y_train, y_test = train_test_split(X, y,\n",
    "                                                    test_size=0.2,\n",
    "                                                    random_state=42)"
   ]
  },
  {
   "cell_type": "code",
   "execution_count": null,
   "metadata": {},
   "outputs": [],
   "source": [
    "first_cluster_train = X_train[X_train.Clusters == 0].iloc[:, :-1]\n",
    "second_cluster_train = X_train[X_train.Clusters == 1].iloc[:, :-1]"
   ]
  },
  {
   "cell_type": "markdown",
   "metadata": {},
   "source": [
    "## Logistic Regression for PD Estimation"
   ]
  },
  {
   "cell_type": "code",
   "execution_count": null,
   "metadata": {},
   "outputs": [],
   "source": [
    "import statsmodels.api as sm\n",
    "from sklearn.linear_model import LogisticRegression\n",
    "from sklearn.metrics import roc_auc_score, roc_curve\n",
    "from imblearn.combine import SMOTEENN\n",
    "import warnings\n",
    "warnings.filterwarnings('ignore')"
   ]
  },
  {
   "cell_type": "code",
   "execution_count": null,
   "metadata": {},
   "outputs": [],
   "source": [
    "X_train1 = first_cluster_train\n",
    "y_train1 = y_train[y_train.Clusters == 0]['Risk']\n",
    "smote = SMOTEENN(random_state = 2)\n",
    "X_train1, y_train1 = smote.fit_resample(X_train1, y_train1.ravel())\n",
    "logit = sm.Logit(y_train1, X_train1)\n",
    "logit_fit1 = logit.fit()\n",
    "print(logit_fit1.summary())"
   ]
  },
  {
   "cell_type": "code",
   "execution_count": null,
   "metadata": {},
   "outputs": [],
   "source": [
    "first_cluster_test = X_test[X_test.Clusters == 0].iloc[:, :-1]\n",
    "second_cluster_test = X_test[X_test.Clusters == 1].iloc[:, :-1]"
   ]
  },
  {
   "cell_type": "code",
   "execution_count": null,
   "metadata": {},
   "outputs": [],
   "source": [
    "X_test1 = first_cluster_test\n",
    "y_test1 = y_test[y_test.Clusters == 0]['Risk']\n",
    "pred_prob1 = logit_fit1.predict(X_test1)"
   ]
  },
  {
   "cell_type": "code",
   "execution_count": null,
   "metadata": {},
   "outputs": [],
   "source": [
    "false_pos, true_pos, _ = roc_curve(y_test1.values,  pred_prob1)\n",
    "auc = roc_auc_score(y_test1, pred_prob1)\n",
    "plt.plot(false_pos,true_pos, label=\"AUC for cluster 1={:.4f} \"\n",
    "         .format(auc))\n",
    "plt.plot([0, 1], [0, 1], linestyle = '--', label='45 degree line')\n",
    "plt.legend(loc='best')\n",
    "plt.title('AUC-ROC Curve 1')\n",
    "plt.show()"
   ]
  },
  {
   "cell_type": "code",
   "execution_count": null,
   "metadata": {},
   "outputs": [],
   "source": [
    "X_train2 = second_cluster_train\n",
    "y_train2 = y_train[y_train.Clusters == 1]['Risk']\n",
    "logit = sm.Logit(y_train2, X_train2)\n",
    "logit_fit2 = logit.fit()\n",
    "print(logit_fit2.summary())"
   ]
  },
  {
   "cell_type": "code",
   "execution_count": null,
   "metadata": {},
   "outputs": [],
   "source": [
    "X_test2 = second_cluster_test\n",
    "y_test2 = y_test[y_test.Clusters == 1]['Risk']\n",
    "pred_prob2 = logit_fit2.predict(X_test2)"
   ]
  },
  {
   "cell_type": "code",
   "execution_count": null,
   "metadata": {},
   "outputs": [],
   "source": [
    "false_pos, true_pos, _ = roc_curve(y_test2.values,  pred_prob2)\n",
    "auc = roc_auc_score(y_test2, pred_prob2)\n",
    "plt.plot(false_pos,true_pos,label=\"AUC for cluster 2={:.4f} \"\n",
    "         .format(auc))\n",
    "plt.plot([0, 1], [0, 1], linestyle = '--', label='45 degree line')\n",
    "plt.legend(loc='best')\n",
    "plt.title('AUC-ROC Curve 2')\n",
    "plt.show()"
   ]
  },
  {
   "cell_type": "markdown",
   "metadata": {},
   "source": [
    "## Bayesian Approach for PD Estimation"
   ]
  },
  {
   "cell_type": "code",
   "execution_count": null,
   "metadata": {},
   "outputs": [],
   "source": [
    "import pymc3 as pm d\n",
    "import arviz as az"
   ]
  },
  {
   "cell_type": "code",
   "execution_count": null,
   "metadata": {
    "scrolled": true
   },
   "outputs": [],
   "source": [
    "with pm.Model() as logistic_model1:\n",
    "    beta_age = pm.Normal('coeff_age', mu=0, sd=10)\n",
    "    beta_job = pm.Normal('coeff_job', mu=0, sd=10)\n",
    "    beta_credit = pm.Normal('coeff_credit_amount', mu=0, sd=10)\n",
    "    beta_dur = pm.Normal('coeff_duration', mu=0, sd=10)\n",
    "    p = pm.Deterministic('p', pm.math.sigmoid(beta_age * \n",
    "                              X_train1['Age'] + beta_job *\n",
    "                              X_train1['Job'] + beta_credit *\n",
    "                              X_train1['Credit amount'] + beta_dur *\n",
    "                              X_train1['Duration']))\n",
    "with logistic_model1:\n",
    "    observed = pm.Bernoulli(\"risk\", p, observed=y_train1)\n",
    "    map_estimate = pm.find_MAP()"
   ]
  },
  {
   "cell_type": "code",
   "execution_count": null,
   "metadata": {},
   "outputs": [],
   "source": [
    "param_list = ['coeff_age', 'coeff_job',\n",
    "              'coeff_credit_amount', 'coeff_duration']\n",
    "params = {}\n",
    "for i in param_list:\n",
    "    params[i] = [np.round(map_estimate[i], 6)] \n",
    "    \n",
    "bayesian_params = pd.DataFrame.from_dict(params)    \n",
    "print('The result of Bayesian estimation:\\n {}'.format(bayesian_params))"
   ]
  },
  {
   "cell_type": "code",
   "execution_count": null,
   "metadata": {},
   "outputs": [],
   "source": [
    "with pm.Model() as logistic_model2:\n",
    "    beta_age = pm.Normal('coeff_age', mu=0, sd=10)\n",
    "    beta_job = pm.Normal('coeff_job', mu=0, sd=10)\n",
    "    beta_credit = pm.Normal('coeff_credit_amount', mu=0, sd=10)\n",
    "    beta_dur = pm.Normal('coeff_duration', mu=0, sd=10)\n",
    "    p = pm.Deterministic('p', pm.math.sigmoid(beta_age *\n",
    "                              second_cluster_train['Age'] + \n",
    "                              beta_job * second_cluster_train['Job'] + \n",
    "                              beta_credit * second_cluster_train['Credit amount'] + \n",
    "                              beta_dur * second_cluster_train['Duration']))\n",
    "with logistic_model2:\n",
    "    observed = pm.Bernoulli(\"risk\", p,\n",
    "                            observed=y_train[y_train.Clusters == 1]\n",
    "                            ['Risk'])\n",
    "    map_estimate = pm.find_MAP()"
   ]
  },
  {
   "cell_type": "code",
   "execution_count": null,
   "metadata": {},
   "outputs": [],
   "source": [
    "param_list = [ 'coeff_age', 'coeff_job',\n",
    "              'coeff_credit_amount', 'coeff_duration']\n",
    "params = {}\n",
    "for i in param_list:\n",
    "    params[i] = [np.round(map_estimate[i], 6)]\n",
    "    \n",
    "bayesian_params = pd.DataFrame.from_dict(params)    \n",
    "print('The result of Bayesian estimation:\\n {}'.format(bayesian_params))"
   ]
  },
  {
   "cell_type": "markdown",
   "metadata": {},
   "source": [
    "## Markov Chain for PD Estimation"
   ]
  },
  {
   "cell_type": "code",
   "execution_count": null,
   "metadata": {},
   "outputs": [],
   "source": [
    "import logging\n",
    "logger = logging.getLogger('pymc3')\n",
    "logger.setLevel(logging.ERROR)"
   ]
  },
  {
   "cell_type": "code",
   "execution_count": null,
   "metadata": {
    "scrolled": true
   },
   "outputs": [],
   "source": [
    "with logistic_model1:\n",
    "    step = pm.Metropolis()\n",
    "    trace = pm.sample(10000, step=step,progressbar = False)\n",
    "az.plot_trace(trace)\n",
    "plt.show()"
   ]
  },
  {
   "cell_type": "code",
   "execution_count": null,
   "metadata": {},
   "outputs": [],
   "source": [
    "with logistic_model1:\n",
    "    display(az.summary(trace, round_to=6)[:4])"
   ]
  },
  {
   "cell_type": "code",
   "execution_count": null,
   "metadata": {},
   "outputs": [],
   "source": [
    "with logistic_model2:\n",
    "    step = pm.Metropolis()\n",
    "    trace = pm.sample(10000, step=step,progressbar = False)\n",
    "az.plot_trace(trace)\n",
    "plt.show()"
   ]
  },
  {
   "cell_type": "code",
   "execution_count": null,
   "metadata": {},
   "outputs": [],
   "source": [
    "with logistic_model2:\n",
    "    display(az.summary(trace, round_to=6)[:4])"
   ]
  },
  {
   "cell_type": "markdown",
   "metadata": {},
   "source": [
    "## SVC for PD Estimation"
   ]
  },
  {
   "cell_type": "code",
   "execution_count": null,
   "metadata": {},
   "outputs": [],
   "source": [
    "from sklearn.svm import SVC\n",
    "from sklearn.experimental import enable_halving_search_cv\n",
    "from sklearn.model_selection import HalvingRandomSearchCV\n",
    "import time"
   ]
  },
  {
   "cell_type": "code",
   "execution_count": null,
   "metadata": {},
   "outputs": [],
   "source": [
    "param_svc = {'gamma': [1e-6, 1e-2],\n",
    "             'C':[0.001,.09,1,5,10],\n",
    "             'kernel':('linear','rbf')}"
   ]
  },
  {
   "cell_type": "code",
   "execution_count": null,
   "metadata": {},
   "outputs": [],
   "source": [
    "svc = SVC(class_weight='balanced')\n",
    "halve_SVC = HalvingRandomSearchCV(svc, param_svc, \n",
    "                                  scoring = 'roc_auc', n_jobs=-1)\n",
    "halve_SVC.fit(X_train1, y_train1)\n",
    "print('Best hyperparameters for first cluster in SVC {} with {}'.\n",
    "      format(halve_SVC.best_score_, halve_SVC.best_params_))"
   ]
  },
  {
   "cell_type": "code",
   "execution_count": null,
   "metadata": {},
   "outputs": [],
   "source": [
    "y_pred_SVC1 = halve_SVC.predict(X_test1)\n",
    "print('The ROC AUC score of SVC for first cluster is {:.4f}'.\n",
    "      format(roc_auc_score(y_test1, y_pred_SVC1)))"
   ]
  },
  {
   "cell_type": "code",
   "execution_count": null,
   "metadata": {},
   "outputs": [],
   "source": [
    "halve_SVC.fit(X_train2, y_train2)\n",
    "print('Best hyperparameters for second cluster in SVC {} with {}'.\n",
    "      format(halve_SVC.best_score_, halve_SVC.best_params_))"
   ]
  },
  {
   "cell_type": "code",
   "execution_count": null,
   "metadata": {},
   "outputs": [],
   "source": [
    "y_pred_SVC2 = halve_SVC.predict(X_test2)\n",
    "print('The ROC AUC score of SVC for first cluster is {:.4f}'.\n",
    "      format(roc_auc_score(y_test2, y_pred_SVC2)))"
   ]
  },
  {
   "cell_type": "markdown",
   "metadata": {},
   "source": [
    "## RF for PD Estimation"
   ]
  },
  {
   "cell_type": "code",
   "execution_count": null,
   "metadata": {},
   "outputs": [],
   "source": [
    "from sklearn.ensemble import RandomForestClassifier"
   ]
  },
  {
   "cell_type": "code",
   "execution_count": null,
   "metadata": {},
   "outputs": [],
   "source": [
    "rfc = RandomForestClassifier(random_state=42)"
   ]
  },
  {
   "cell_type": "code",
   "execution_count": null,
   "metadata": {},
   "outputs": [],
   "source": [
    "param_rfc = {'n_estimators': [100, 300],\n",
    "    'criterion' :['gini', 'entropy'],\n",
    "    'max_features': ['auto', 'sqrt', 'log2'],\n",
    "    'max_depth' : [3, 4, 5, 6],\n",
    "    'min_samples_split':[5, 10]}"
   ]
  },
  {
   "cell_type": "code",
   "execution_count": null,
   "metadata": {},
   "outputs": [],
   "source": [
    "halve_RF = HalvingRandomSearchCV(rfc, param_rfc,\n",
    "                                 scoring = 'roc_auc', n_jobs=-1)\n",
    "halve_RF.fit(X_train1, y_train1)\n",
    "print('Best hyperparameters for first cluster in RF {} with {}'.\n",
    "      format(halve_RF.best_score_, halve_RF.best_params_))"
   ]
  },
  {
   "cell_type": "code",
   "execution_count": null,
   "metadata": {},
   "outputs": [],
   "source": [
    "y_pred_RF1 = halve_RF.predict(X_test1)\n",
    "print('The ROC AUC score of RF for first cluster is {:.4f}'.\n",
    "      format(roc_auc_score(y_test1, y_pred_RF1)))"
   ]
  },
  {
   "cell_type": "code",
   "execution_count": null,
   "metadata": {},
   "outputs": [],
   "source": [
    "halve_RF.fit(X_train2, y_train2)\n",
    "print('Best hyperparameters for second cluster in RF {} with {}'.\n",
    "      format(halve_RF.best_score_, halve_RF.best_params_))"
   ]
  },
  {
   "cell_type": "code",
   "execution_count": null,
   "metadata": {},
   "outputs": [],
   "source": [
    "y_pred_RF2 = halve_RF.predict(X_test2)\n",
    "print('The ROC AUC score of RF for first cluster is {:.4f}'.\n",
    "      format(roc_auc_score(y_test2, y_pred_RF2)))"
   ]
  },
  {
   "cell_type": "markdown",
   "metadata": {},
   "source": [
    "## NN for PD Estimation"
   ]
  },
  {
   "cell_type": "code",
   "execution_count": null,
   "metadata": {},
   "outputs": [],
   "source": [
    "from sklearn.neural_network import MLPClassifier"
   ]
  },
  {
   "cell_type": "code",
   "execution_count": null,
   "metadata": {},
   "outputs": [],
   "source": [
    "param_NN = {\"hidden_layer_sizes\": [(100, 50), (50, 50), (10, 100)],\n",
    "            \"solver\": [\"lbfgs\", \"sgd\", \"adam\"], \n",
    "            \"learning_rate_init\": [0.001, 0.05]}"
   ]
  },
  {
   "cell_type": "code",
   "execution_count": null,
   "metadata": {},
   "outputs": [],
   "source": [
    "MLP = MLPClassifier(random_state=42)"
   ]
  },
  {
   "cell_type": "code",
   "execution_count": null,
   "metadata": {},
   "outputs": [],
   "source": [
    "param_halve_NN = HalvingRandomSearchCV(MLP, param_NN,\n",
    "                                       scoring = 'roc_auc')\n",
    "param_halve_NN.fit(X_train1, y_train1)\n",
    "print('Best hyperparameters for first cluster in NN are {}'.\n",
    "      format(param_halve_NN.best_params_))"
   ]
  },
  {
   "cell_type": "code",
   "execution_count": null,
   "metadata": {},
   "outputs": [],
   "source": [
    "y_pred_NN1 = param_halve_NN.predict(X_test1)\n",
    "print('The ROC AUC score of NN for first cluster is {:.4f}'.\n",
    "      format(roc_auc_score(y_test1, y_pred_NN1)))"
   ]
  },
  {
   "cell_type": "code",
   "execution_count": null,
   "metadata": {},
   "outputs": [],
   "source": [
    "param_halve_NN.fit(X_train2, y_train2)\n",
    "print('Best hyperparameters for first cluster in NN are {}'.\n",
    "      format(param_halve_NN.best_params_))"
   ]
  },
  {
   "cell_type": "code",
   "execution_count": null,
   "metadata": {},
   "outputs": [],
   "source": [
    "y_pred_NN2 = param_halve_NN.predict(X_test2)\n",
    "print('The ROC AUC score of NN for first cluster is {:.4f}'.\n",
    "      format(roc_auc_score(y_test2, y_pred_NN2)))"
   ]
  },
  {
   "cell_type": "markdown",
   "metadata": {},
   "source": [
    "## DL for PD Estimation"
   ]
  },
  {
   "cell_type": "code",
   "execution_count": null,
   "metadata": {},
   "outputs": [],
   "source": [
    "from tensorflow import keras\n",
    "from tensorflow.keras.wrappers.scikit_learn import KerasClassifier\n",
    "from tensorflow.keras.layers import Dense, Dropout\n",
    "from sklearn.model_selection import GridSearchCV\n",
    "import tensorflow as tf\n",
    "import logging\n",
    "tf.get_logger().setLevel(logging.ERROR)"
   ]
  },
  {
   "cell_type": "code",
   "execution_count": null,
   "metadata": {},
   "outputs": [],
   "source": [
    "def DL_risk(dropout_rate,verbose=0):\n",
    "    model = keras.Sequential()\n",
    "    model.add(Dense(128,kernel_initializer='normal', \n",
    "        activation = 'relu', input_dim=4))\n",
    "    model.add(Dense(64, kernel_initializer='normal', \n",
    "        activation = 'relu'))\n",
    "    model.add(Dense(8,kernel_initializer='normal', \n",
    "        activation = 'relu'))\n",
    "    model.add(Dropout(dropout_rate))\n",
    "    model.add(Dense(1, activation=\"sigmoid\"))\n",
    "    model.compile(loss='binary_crossentropy', optimizer='rmsprop')\n",
    "    return model"
   ]
  },
  {
   "cell_type": "code",
   "execution_count": null,
   "metadata": {},
   "outputs": [],
   "source": [
    "parameters = {'batch_size':  [10, 50, 100],\n",
    "          'epochs':  [50, 100, 150],\n",
    "             'dropout_rate':[0.2, 0.4]}\n",
    "model = KerasClassifier(build_fn = DL_risk)\n",
    "gs = GridSearchCV(estimator = model,\n",
    "                       param_grid = parameters,\n",
    "                          scoring = 'roc_auc')"
   ]
  },
  {
   "cell_type": "code",
   "execution_count": null,
   "metadata": {},
   "outputs": [],
   "source": [
    "gs.fit(X_train1, y_train1, verbose=0)\n",
    "print('Best hyperparameters for first cluster in DL are {}'.\n",
    "      format(gs.best_params_))"
   ]
  },
  {
   "cell_type": "code",
   "execution_count": null,
   "metadata": {},
   "outputs": [],
   "source": [
    "model = KerasClassifier(build_fn = DL_risk,\n",
    "                        dropout_rate = gs.best_params_['dropout_rate'],\n",
    "                        verbose = 0,\n",
    "                        batch_size = gs.best_params_['batch_size'],\n",
    "                        epochs = gs.best_params_['epochs'])\n",
    "model.fit(X_train1, y_train1)\n",
    "DL_predict1 = model.predict(X_test1)\n",
    "DL_ROC_AUC = roc_auc_score(y_test1, pd.DataFrame(DL_predict1.flatten()))\n",
    "print('DL_ROC_AUC is {:.4f}'.format(DL_ROC_AUC))"
   ]
  },
  {
   "cell_type": "code",
   "execution_count": null,
   "metadata": {},
   "outputs": [],
   "source": [
    "gs.fit(X_train2.values, y_train2.values, verbose=0)\n",
    "print('Best parameters for second cluster in DL are {}'.\n",
    "      format(gs.best_params_))"
   ]
  },
  {
   "cell_type": "code",
   "execution_count": null,
   "metadata": {},
   "outputs": [],
   "source": [
    "model = KerasClassifier(build_fn = DL_risk,\n",
    "                        dropout_rate= gs.best_params_['dropout_rate'],\n",
    "                        verbose = 0,\n",
    "                        batch_size = gs.best_params_['batch_size'],\n",
    "                        epochs = gs.best_params_['epochs'])\n",
    "model.fit(X_train2, y_train2)\n",
    "DL_predict2 =  model.predict(X_test2)\n",
    "DL_ROC_AUC = roc_auc_score(y_test2, DL_predict2.flatten()) \n",
    "print('DL_ROC_AUC is {:.4f}'.format(DL_ROC_AUC))"
   ]
  }
 ],
 "metadata": {
  "kernelspec": {
   "display_name": "Python 3",
   "language": "python",
   "name": "python3"
  },
  "language_info": {
   "codemirror_mode": {
    "name": "ipython",
    "version": 3
   },
   "file_extension": ".py",
   "mimetype": "text/x-python",
   "name": "python",
   "nbconvert_exporter": "python",
   "pygments_lexer": "ipython3",
   "version": "3.8.8"
  },
  "latex_envs": {
   "LaTeX_envs_menu_present": true,
   "autoclose": false,
   "autocomplete": true,
   "bibliofile": "biblio.bib",
   "cite_by": "apalike",
   "current_citInitial": 1,
   "eqLabelWithNumbers": true,
   "eqNumInitial": 1,
   "hotkeys": {
    "equation": "Ctrl-E",
    "itemize": "Ctrl-I"
   },
   "labels_anchors": false,
   "latex_user_defs": false,
   "report_style_numbering": false,
   "user_envs_cfg": false
  },
  "toc": {
   "base_numbering": 1,
   "nav_menu": {},
   "number_sections": false,
   "sideBar": true,
   "skip_h1_title": false,
   "title_cell": "Table of Contents",
   "title_sidebar": "Contents",
   "toc_cell": false,
   "toc_position": {},
   "toc_section_display": true,
   "toc_window_display": false
  }
 },
 "nbformat": 4,
 "nbformat_minor": 4
}
