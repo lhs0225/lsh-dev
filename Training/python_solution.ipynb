{
 "cells": [
  {
   "cell_type": "code",
   "execution_count": 41,
   "metadata": {},
   "outputs": [],
   "source": [
    "# 뒤에 있는 큰 수 찾기\n",
    "numbers = [2, 3, 3, 5]"
   ]
  },
  {
   "cell_type": "code",
   "execution_count": 42,
   "metadata": {},
   "outputs": [],
   "source": [
    "# 함수\n",
    "def solution(numbers):\n",
    "    answer = [-1] * len(numbers)\n",
    "    \n",
    "    num_sort = numbers.copy()\n",
    "    num_sort = list(set(num_sort))\n",
    "    num_sort.sort()\n",
    "    \n",
    "    # 위치 설정\n",
    "    position = {}\n",
    "    for (i,num) in enumerate(num_sort):\n",
    "        position[num] = i\n",
    "    \n",
    "    for (i,num) in enumerate(numbers):\n",
    "        if num == numbers[-1]:\n",
    "            break\n",
    "        else:\n",
    "            idx = position[num]\n",
    "            answer[i] = num_sort[idx+1]\n",
    "            \n",
    "    return answer"
   ]
  },
  {
   "cell_type": "code",
   "execution_count": 43,
   "metadata": {},
   "outputs": [
    {
     "name": "stdout",
     "output_type": "stream",
     "text": [
      "[2, 3, 5]\n",
      "[3, -1, 5, -1]\n"
     ]
    }
   ],
   "source": [
    "# test run\n",
    "answer = solution(numbers)\n",
    "print(answer)"
   ]
  }
 ],
 "metadata": {
  "kernelspec": {
   "display_name": "test",
   "language": "python",
   "name": "test"
  },
  "language_info": {
   "codemirror_mode": {
    "name": "ipython",
    "version": 3
   },
   "file_extension": ".py",
   "mimetype": "text/x-python",
   "name": "python",
   "nbconvert_exporter": "python",
   "pygments_lexer": "ipython3",
   "version": "3.9.18"
  }
 },
 "nbformat": 4,
 "nbformat_minor": 2
}
