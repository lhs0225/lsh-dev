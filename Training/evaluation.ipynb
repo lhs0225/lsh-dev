{
 "cells": [
  {
   "cell_type": "code",
   "execution_count": null,
   "metadata": {},
   "outputs": [],
   "source": [
    "# 학습데이터와 테스트데이터 분리 : 8:2\n",
    "X_train, X_test, y_train, y_test = train_test_split(\n",
    "      X_features\n",
    "    , y_label\n",
    "    , test_size=0.2\n",
    "    , random_state=156\n",
    ")"
   ]
  },
  {
   "cell_type": "code",
   "execution_count": null,
   "metadata": {},
   "outputs": [],
   "source": [
    "preds = lgbm.predict(X_test)\n",
    "preds_proba = lgbm.predict_proba(X_test)[:,1]"
   ]
  },
  {
   "cell_type": "code",
   "execution_count": null,
   "metadata": {},
   "outputs": [],
   "source": [
    "# 오차행렬, 정확도, 정밀도, 재현율, f1점수, AUC 확인\n",
    "from sklearn.metrics import confusion_matrix # 오차행렬 (원래답, 예측값)\n",
    "from sklearn.metrics import accuracy_score # 분류에서의 정확도\n",
    "from sklearn.metrics import precision_score # 정밀도 점수 (원래답, 예측값)\n",
    "from sklearn.metrics import recall_score # 재현율 점수 (원래답, 예측값)\n",
    "from sklearn.metrics import f1_score # (원래답, 예측값)\n",
    "from sklearn.metrics import roc_auc_score # (원래답, 예측확률)\n",
    "\n",
    "def get_clf_eval(y_test, preds, preds_proba):\n",
    "    # 오차행렬\n",
    "    confusion = confusion_matrix(y_test, preds)\n",
    "    # 정확도 점수\n",
    "    accuracy = accuracy_score(y_test, preds)\n",
    "    # 정밀도 점수\n",
    "    precision = precision_score(y_test, preds)\n",
    "    recall = recall_score(y_test, preds)\n",
    "    f1 = f1_score(y_test, preds)\n",
    "    roc_auc = roc_auc_score(y_test, preds_proba)\n",
    "    \n",
    "    print('오차행렬')\n",
    "    print(confusion)\n",
    "    print(f'정확도 : {accuracy:.4f}, 정밀도 : {precision:.4f}, \\\n",
    "          재현율 : {recall:.4f}, F1 : {f1:.4f}, \\\n",
    "          AUC : {roc_auc:.4f}')"
   ]
  },
  {
   "cell_type": "code",
   "execution_count": null,
   "metadata": {},
   "outputs": [],
   "source": [
    "# 평가 함수 호출\n",
    "get_clf_eval(y_test, preds, preds_proba)"
   ]
  }
 ],
 "metadata": {
  "language_info": {
   "name": "python"
  }
 },
 "nbformat": 4,
 "nbformat_minor": 2
}
