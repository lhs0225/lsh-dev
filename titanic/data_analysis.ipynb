{
 "cells": [
  {
   "cell_type": "markdown",
   "metadata": {},
   "source": [
    "# Let's get started! ⚡"
   ]
  },
  {
   "cell_type": "code",
   "execution_count": 26,
   "metadata": {},
   "outputs": [],
   "source": [
    "## IMPORT THE NECESSARY PYTHON LIBRARIES\n",
    "\n",
    "# Exploratory Data Analysis\n",
    "import numpy as np\n",
    "import pandas as pd\n",
    "import seaborn as sns\n",
    "import matplotlib.pyplot as plt\n",
    "\n",
    "# Data Preprocessing\n",
    "# from sklearn.pipeline import Pipeline\n",
    "# from sklearn.impute import SimpleImputer\n",
    "# from sklearn.compose import ColumnTransformer\n",
    "# from sklearn.base import TransformerMixin"
   ]
  },
  {
   "cell_type": "markdown",
   "metadata": {},
   "source": [
    "# Data Reading"
   ]
  },
  {
   "cell_type": "code",
   "execution_count": 27,
   "metadata": {},
   "outputs": [],
   "source": [
    "# 데이터 읽어오기\n",
    "df_train = pd.read_csv('./data/train.csv')\n",
    "df_test = pd.read_csv('./data/test.csv')"
   ]
  },
  {
   "cell_type": "code",
   "execution_count": 28,
   "metadata": {},
   "outputs": [
    {
     "data": {
      "text/html": [
       "<div>\n",
       "<style scoped>\n",
       "    .dataframe tbody tr th:only-of-type {\n",
       "        vertical-align: middle;\n",
       "    }\n",
       "\n",
       "    .dataframe tbody tr th {\n",
       "        vertical-align: top;\n",
       "    }\n",
       "\n",
       "    .dataframe thead th {\n",
       "        text-align: right;\n",
       "    }\n",
       "</style>\n",
       "<table border=\"1\" class=\"dataframe\">\n",
       "  <thead>\n",
       "    <tr style=\"text-align: right;\">\n",
       "      <th></th>\n",
       "      <th>PassengerId</th>\n",
       "      <th>Survived</th>\n",
       "      <th>Pclass</th>\n",
       "      <th>Name</th>\n",
       "      <th>Sex</th>\n",
       "      <th>Age</th>\n",
       "      <th>SibSp</th>\n",
       "      <th>Parch</th>\n",
       "      <th>Ticket</th>\n",
       "      <th>Fare</th>\n",
       "      <th>Cabin</th>\n",
       "      <th>Embarked</th>\n",
       "    </tr>\n",
       "  </thead>\n",
       "  <tbody>\n",
       "    <tr>\n",
       "      <th>0</th>\n",
       "      <td>1</td>\n",
       "      <td>0</td>\n",
       "      <td>3</td>\n",
       "      <td>Braund, Mr. Owen Harris</td>\n",
       "      <td>male</td>\n",
       "      <td>22.0</td>\n",
       "      <td>1</td>\n",
       "      <td>0</td>\n",
       "      <td>A/5 21171</td>\n",
       "      <td>7.2500</td>\n",
       "      <td>NaN</td>\n",
       "      <td>S</td>\n",
       "    </tr>\n",
       "    <tr>\n",
       "      <th>1</th>\n",
       "      <td>2</td>\n",
       "      <td>1</td>\n",
       "      <td>1</td>\n",
       "      <td>Cumings, Mrs. John Bradley (Florence Briggs Th...</td>\n",
       "      <td>female</td>\n",
       "      <td>38.0</td>\n",
       "      <td>1</td>\n",
       "      <td>0</td>\n",
       "      <td>PC 17599</td>\n",
       "      <td>71.2833</td>\n",
       "      <td>C85</td>\n",
       "      <td>C</td>\n",
       "    </tr>\n",
       "    <tr>\n",
       "      <th>2</th>\n",
       "      <td>3</td>\n",
       "      <td>1</td>\n",
       "      <td>3</td>\n",
       "      <td>Heikkinen, Miss. Laina</td>\n",
       "      <td>female</td>\n",
       "      <td>26.0</td>\n",
       "      <td>0</td>\n",
       "      <td>0</td>\n",
       "      <td>STON/O2. 3101282</td>\n",
       "      <td>7.9250</td>\n",
       "      <td>NaN</td>\n",
       "      <td>S</td>\n",
       "    </tr>\n",
       "    <tr>\n",
       "      <th>3</th>\n",
       "      <td>4</td>\n",
       "      <td>1</td>\n",
       "      <td>1</td>\n",
       "      <td>Futrelle, Mrs. Jacques Heath (Lily May Peel)</td>\n",
       "      <td>female</td>\n",
       "      <td>35.0</td>\n",
       "      <td>1</td>\n",
       "      <td>0</td>\n",
       "      <td>113803</td>\n",
       "      <td>53.1000</td>\n",
       "      <td>C123</td>\n",
       "      <td>S</td>\n",
       "    </tr>\n",
       "    <tr>\n",
       "      <th>4</th>\n",
       "      <td>5</td>\n",
       "      <td>0</td>\n",
       "      <td>3</td>\n",
       "      <td>Allen, Mr. William Henry</td>\n",
       "      <td>male</td>\n",
       "      <td>35.0</td>\n",
       "      <td>0</td>\n",
       "      <td>0</td>\n",
       "      <td>373450</td>\n",
       "      <td>8.0500</td>\n",
       "      <td>NaN</td>\n",
       "      <td>S</td>\n",
       "    </tr>\n",
       "  </tbody>\n",
       "</table>\n",
       "</div>"
      ],
      "text/plain": [
       "   PassengerId  Survived  Pclass  \\\n",
       "0            1         0       3   \n",
       "1            2         1       1   \n",
       "2            3         1       3   \n",
       "3            4         1       1   \n",
       "4            5         0       3   \n",
       "\n",
       "                                                Name     Sex   Age  SibSp  \\\n",
       "0                            Braund, Mr. Owen Harris    male  22.0      1   \n",
       "1  Cumings, Mrs. John Bradley (Florence Briggs Th...  female  38.0      1   \n",
       "2                             Heikkinen, Miss. Laina  female  26.0      0   \n",
       "3       Futrelle, Mrs. Jacques Heath (Lily May Peel)  female  35.0      1   \n",
       "4                           Allen, Mr. William Henry    male  35.0      0   \n",
       "\n",
       "   Parch            Ticket     Fare Cabin Embarked  \n",
       "0      0         A/5 21171   7.2500   NaN        S  \n",
       "1      0          PC 17599  71.2833   C85        C  \n",
       "2      0  STON/O2. 3101282   7.9250   NaN        S  \n",
       "3      0            113803  53.1000  C123        S  \n",
       "4      0            373450   8.0500   NaN        S  "
      ]
     },
     "execution_count": 28,
     "metadata": {},
     "output_type": "execute_result"
    }
   ],
   "source": [
    "# 헤드 확인\n",
    "df_train.head()"
   ]
  },
  {
   "cell_type": "code",
   "execution_count": 29,
   "metadata": {},
   "outputs": [
    {
     "name": "stdout",
     "output_type": "stream",
     "text": [
      "(891, 12) (418, 11)\n"
     ]
    }
   ],
   "source": [
    "# 데이터의 컬럼 수 확인\n",
    "print(df_train.shape, df_test.shape)"
   ]
  },
  {
   "cell_type": "code",
   "execution_count": 30,
   "metadata": {},
   "outputs": [
    {
     "name": "stdout",
     "output_type": "stream",
     "text": [
      "<class 'pandas.core.frame.DataFrame'>\n",
      "RangeIndex: 891 entries, 0 to 890\n",
      "Data columns (total 12 columns):\n",
      " #   Column       Non-Null Count  Dtype  \n",
      "---  ------       --------------  -----  \n",
      " 0   PassengerId  891 non-null    int64  \n",
      " 1   Survived     891 non-null    int64  \n",
      " 2   Pclass       891 non-null    int64  \n",
      " 3   Name         891 non-null    object \n",
      " 4   Sex          891 non-null    object \n",
      " 5   Age          714 non-null    float64\n",
      " 6   SibSp        891 non-null    int64  \n",
      " 7   Parch        891 non-null    int64  \n",
      " 8   Ticket       891 non-null    object \n",
      " 9   Fare         891 non-null    float64\n",
      " 10  Cabin        204 non-null    object \n",
      " 11  Embarked     889 non-null    object \n",
      "dtypes: float64(2), int64(5), object(5)\n",
      "memory usage: 83.7+ KB\n",
      "None\n",
      "\n",
      "<class 'pandas.core.frame.DataFrame'>\n",
      "RangeIndex: 418 entries, 0 to 417\n",
      "Data columns (total 11 columns):\n",
      " #   Column       Non-Null Count  Dtype  \n",
      "---  ------       --------------  -----  \n",
      " 0   PassengerId  418 non-null    int64  \n",
      " 1   Pclass       418 non-null    int64  \n",
      " 2   Name         418 non-null    object \n",
      " 3   Sex          418 non-null    object \n",
      " 4   Age          332 non-null    float64\n",
      " 5   SibSp        418 non-null    int64  \n",
      " 6   Parch        418 non-null    int64  \n",
      " 7   Ticket       418 non-null    object \n",
      " 8   Fare         417 non-null    float64\n",
      " 9   Cabin        91 non-null     object \n",
      " 10  Embarked     418 non-null    object \n",
      "dtypes: float64(2), int64(4), object(5)\n",
      "memory usage: 36.0+ KB\n",
      "None\n"
     ]
    }
   ],
   "source": [
    "# 컬럼별 타입과 Null값 확인\n",
    "print(df_train.info())\n",
    "print()\n",
    "print(df_test.info())"
   ]
  },
  {
   "cell_type": "markdown",
   "metadata": {},
   "source": [
    "## Exploratory Data Analysis 📊🤔"
   ]
  },
  {
   "cell_type": "code",
   "execution_count": 31,
   "metadata": {},
   "outputs": [],
   "source": [
    "# 피처별로 학습데이터, 테스트데이터, 양쪽을 합친 총 생존자의 비율을 시각화해주는 함수\n",
    "# plt, seaborn import하고, eda_bar_plots(컬럼명) 입력하시면 됩니다.\n",
    "def eda_bar_plots(feature: str, target: str = 'Survived') -> None:\n",
    "    \"\"\"\n",
    "    The given 'feature' is expected to be a categorical feature.\n",
    "    Avoid calling this function with 'feature' == 'Age' or 'Fare'\n",
    "    \n",
    "    This function crates 3 bar plots to perform a visual\n",
    "    Data Exploration analysis of the given 'feature'.\n",
    "    \"\"\"\n",
    "    \n",
    "    fig, (ax1, ax2, ax3) = plt.subplots(1, 3, figsize=(15,5))\n",
    "    \n",
    "    # (1) the distribution of 'feature' in the Training data\n",
    "    df1 = df_train[feature].value_counts(normalize=True) \n",
    "    df1 = df1.sort_index().reset_index()\n",
    "    # Now df1 has the columns: feature and 'proportion'\n",
    "    sns.barplot(data=df1, x=feature, y='proportion', ax=ax1)\n",
    "    # Set the title, the xlabel, and the ylabel.\n",
    "    ax1.set(\n",
    "        xlabel=feature, \n",
    "        ylabel='% of each category', \n",
    "        title=feature + ': % value counts [Training Data]'\n",
    "    )\n",
    "    # Plot a horizontal line at the proportion of a balanced\n",
    "    # distribution of the categories in 'feature'\n",
    "    ax1.axhline(\n",
    "        y=1/len(df1), color='green', alpha=0.4, linestyle='--'\n",
    "    )\n",
    "    \n",
    "    # (2) the distribution of 'feature' in the Test data\n",
    "    df2 = df_test[feature].value_counts(normalize=True) \n",
    "    df2 = df2.sort_index().reset_index()\n",
    "    # Now df2 has the columns: feature and 'proportion'\n",
    "    sns.barplot(data=df2, x=feature, y='proportion', ax=ax2)\n",
    "    # Set the title, the xlabel, and the ylabel.\n",
    "    ax2.set(\n",
    "        xlabel=feature, \n",
    "        ylabel='% of each category', \n",
    "        title=feature + ': % value counts [Test Data]'\n",
    "    )\n",
    "    # Plot a horizontal line at the proportion of a balanced\n",
    "    # distribution of the categories in 'feature'\n",
    "    ax2.axhline(\n",
    "        y=1/len(df2), color='green', alpha=0.4, linestyle='--'\n",
    "    )\n",
    "    \n",
    "    # (3) the relationship between the 'target' and the \n",
    "    # categories of 'feature' in the training data\n",
    "    df3 = df_train.groupby(feature, as_index=False).agg(\n",
    "        {target: 'mean'}\n",
    "    ).sort_values(by=feature)\n",
    "    sns.barplot(x=feature, y=target, data=df3, ax=ax3)\n",
    "    ax3.set(\n",
    "        xlabel=feature,\n",
    "        ylabel=f'% {target}', \n",
    "        title=f\"{feature}: prob of '{target}'\"\n",
    "    )\n",
    "    # Plot a horizontal line at the baseline prediction\n",
    "    # probability: two classes -> prob=0.5\n",
    "    ax3.axhline(\n",
    "        y=0.5, color='green', alpha=0.4, linestyle='--'\n",
    "    )"
   ]
  },
  {
   "cell_type": "code",
   "execution_count": 32,
   "metadata": {},
   "outputs": [],
   "source": [
    "df_train['Family'] = df_train['SibSp'].astype(int) + df_train['Parch'].astype(int) + 1\n",
    "df_test['Family'] = df_test['SibSp'].astype(int) + df_test['Parch'].astype(int) + 1"
   ]
  },
  {
   "cell_type": "code",
   "execution_count": 33,
   "metadata": {},
   "outputs": [],
   "source": [
    "# 'avg_Fare_by_50' 컬럼 생성 함수\n",
    "def make_avg_Fare_by_50(df_train, df_test):\n",
    "    df_train['avg_Fare_by_50'] = round(df_train['Fare'] / (df_train['Family'] * 50) + 1.0e-10)\n",
    "    df_test['avg_Fare_by_50'] = round(df_test['Fare'] / (df_test['Family'] * 50) + 1.0e-10)\n",
    "    \n",
    "    return df_train, df_test"
   ]
  },
  {
   "cell_type": "code",
   "execution_count": 34,
   "metadata": {},
   "outputs": [],
   "source": [
    "# 'avg_Fare_by_50' 레이블 인코딩 함수\n",
    "def label_encoding_avg_Fare(df_train, df_test):\n",
    "    def categorize_avg_Fare(x):\n",
    "        if x == 0:\n",
    "            return 'Cheap'\n",
    "        else:\n",
    "            return 'Expensive'\n",
    "\n",
    "    df_train['avg_Fare_by_50'] = df_train['avg_Fare_by_50'].map(categorize_avg_Fare)\n",
    "    df_test['avg_Fare_by_50'] = df_test['avg_Fare_by_50'].map(categorize_avg_Fare)\n",
    "    \n",
    "    return df_train, df_test"
   ]
  },
  {
   "cell_type": "code",
   "execution_count": 35,
   "metadata": {},
   "outputs": [],
   "source": [
    "df_train, df_test = make_avg_Fare_by_50(df_train, df_test)\n",
    "df_train, df_test = label_encoding_avg_Fare(df_train, df_test)"
   ]
  },
  {
   "cell_type": "code",
   "execution_count": 36,
   "metadata": {},
   "outputs": [],
   "source": [
    "eda_bar_plots('avg_Fare_by_50')"
   ]
  },
  {
   "cell_type": "code",
   "execution_count": 40,
   "metadata": {},
   "outputs": [
    {
     "data": {
      "text/plain": [
       "<Axes: xlabel='avg_Fare', ylabel='Pclass'>"
      ]
     },
     "execution_count": 40,
     "metadata": {},
     "output_type": "execute_result"
    },
    {
     "data": {
      "image/png": "[encoded data removed]",
      "text/plain": [
       "<Figure size 640x480 with 1 Axes>"
      ]
     },
     "metadata": {},
     "output_type": "display_data"
    }
   ],
   "source": [
    "df_train['avg_Fare'] = round(df_train['Fare'] / df_train['Family'] + 1.0e-10)\n",
    "\n",
    "sns.scatterplot(\n",
    "      data=df_train\n",
    "    , x='avg_Fare'\n",
    "    , y='Pclass'\n",
    ")"
   ]
  },
  {
   "cell_type": "code",
   "execution_count": 38,
   "metadata": {},
   "outputs": [],
   "source": [
    "# 피어슨 계수 행렬 시각화\n",
    "\n",
    "# corr_matrix = pd.get_dummies(df_train).corr(method='pearson')\n",
    "\n",
    "# plt.figure(figsize=(10, 8))\n",
    "# sns.heatmap(\n",
    "#     corr_matrix, annot=True, cmap='coolwarm', fmt=\".2f\"\n",
    "# )\n",
    "# plt.title(\"Pearson Correlation Heatmap\")\n",
    "# plt.show()"
   ]
  }
 ],
 "metadata": {
  "kernelspec": {
   "display_name": "ml-dev",
   "language": "python",
   "name": "python3"
  },
  "language_info": {
   "codemirror_mode": {
    "name": "ipython",
    "version": 3
   },
   "file_extension": ".py",
   "mimetype": "text/x-python",
   "name": "python",
   "nbconvert_exporter": "python",
   "pygments_lexer": "ipython3",
   "version": "3.10.13"
  }
 },
 "nbformat": 4,
 "nbformat_minor": 2
}
