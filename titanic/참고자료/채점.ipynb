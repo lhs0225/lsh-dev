{
 "cells": [
  {
   "cell_type": "code",
   "execution_count": 5,
   "metadata": {},
   "outputs": [],
   "source": [
    "# 모듈 임포트\n",
    "import pandas as pd\n",
    "import numpy as np"
   ]
  },
  {
   "cell_type": "code",
   "execution_count": 9,
   "metadata": {},
   "outputs": [],
   "source": [
    "# 생성된 데이터 파일과 솔루션 불러오기\n",
    "# 파일 경로 적절히 수정해서 쓰세요.\n",
    "submission = pd.read_csv('./data/submission.csv')\n",
    "solution = pd.read_csv('./data/solution.csv')"
   ]
  },
  {
   "cell_type": "code",
   "execution_count": 7,
   "metadata": {},
   "outputs": [],
   "source": [
    "# 채점 테이블 생성\n",
    "marking = submission.merge(solution, on='PassengerId')\n",
    "marking.columns = ['PassengerId', 'Submission', 'Solution']\n",
    "\n",
    "# 'Check' : 맞으면 1, 틀리면 0 \n",
    "marking['Check'] = 0"
   ]
  },
  {
   "cell_type": "code",
   "execution_count": 8,
   "metadata": {},
   "outputs": [
    {
     "name": "stdout",
     "output_type": "stream",
     "text": [
      "정답: 0.77273\n"
     ]
    }
   ],
   "source": [
    "# 채점\n",
    "cond = marking['Submission'] == marking['Solution']\n",
    "marking.loc[cond, 'Check'] = 1\n",
    "\n",
    "# 정답 계산 및 출력\n",
    "result = marking['Check'].sum() / marking.shape[0]\n",
    "print('정답: {0:.5f}'.format(result))"
   ]
  }
 ],
 "metadata": {
  "kernelspec": {
   "display_name": "ml-dev",
   "language": "python",
   "name": "python3"
  },
  "language_info": {
   "codemirror_mode": {
    "name": "ipython",
    "version": 3
   },
   "file_extension": ".py",
   "mimetype": "text/x-python",
   "name": "python",
   "nbconvert_exporter": "python",
   "pygments_lexer": "ipython3",
   "version": "3.10.13"
  }
 },
 "nbformat": 4,
 "nbformat_minor": 2
}
