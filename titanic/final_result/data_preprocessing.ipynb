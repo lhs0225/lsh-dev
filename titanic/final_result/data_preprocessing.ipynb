{
 "cells": [
  {
   "cell_type": "markdown",
   "metadata": {},
   "source": [
    "# Let's get started! ⚡"
   ]
  },
  {
   "cell_type": "markdown",
   "metadata": {},
   "source": [
    "## Import Module"
   ]
  },
  {
   "cell_type": "markdown",
   "metadata": {},
   "source": [
    "### Basic Module"
   ]
  },
  {
   "cell_type": "code",
   "execution_count": null,
   "metadata": {},
   "outputs": [],
   "source": [
    "# Exploratory Data Analysis\n",
    "import pandas as pd\n",
    "pd.options.mode.chained_assignment = None\n",
    "import numpy as np\n",
    "\n",
    "# Warnings\n",
    "import warnings\n",
    "warnings.filterwarnings('ignore')"
   ]
  },
  {
   "cell_type": "markdown",
   "metadata": {},
   "source": [
    "### Visualization"
   ]
  },
  {
   "cell_type": "code",
   "execution_count": null,
   "metadata": {},
   "outputs": [],
   "source": [
    "# Visualization\n",
    "import matplotlib.pyplot as plt\n",
    "import seaborn as sns"
   ]
  },
  {
   "cell_type": "markdown",
   "metadata": {},
   "source": [
    "### Data Preprocessing Module"
   ]
  },
  {
   "cell_type": "code",
   "execution_count": 1,
   "metadata": {},
   "outputs": [],
   "source": [
    "# Data Preprocessing\n",
    "from sklearn.preprocessing import StandardScaler, LabelEncoder"
   ]
  },
  {
   "cell_type": "markdown",
   "metadata": {},
   "source": [
    "### Models"
   ]
  },
  {
   "cell_type": "code",
   "execution_count": null,
   "metadata": {},
   "outputs": [],
   "source": [
    "# Models"
   ]
  },
  {
   "cell_type": "markdown",
   "metadata": {},
   "source": [
    "### Hyperparameter tuning"
   ]
  },
  {
   "cell_type": "code",
   "execution_count": null,
   "metadata": {},
   "outputs": [],
   "source": [
    "# Hyperparameter tuning\n",
    "from hyperopt import hp\n",
    "from hyperopt import fmin, tpe, Trials\n",
    "from sklearn.model_selection import cross_val_score\n",
    "from hyperopt import STATUS_OK"
   ]
  },
  {
   "cell_type": "markdown",
   "metadata": {},
   "source": [
    "# Data Reading"
   ]
  },
  {
   "cell_type": "code",
   "execution_count": null,
   "metadata": {},
   "outputs": [],
   "source": [
    "# 데이터 읽어오기\n",
    "df_train = pd.read_csv('./train.csv')\n",
    "df_test = pd.read_csv('./test.csv')"
   ]
  },
  {
   "cell_type": "code",
   "execution_count": null,
   "metadata": {},
   "outputs": [],
   "source": [
    "# 헤드 확인\n",
    "df_train.head()"
   ]
  },
  {
   "cell_type": "code",
   "execution_count": null,
   "metadata": {},
   "outputs": [],
   "source": [
    "# 데이터의 컬럼 수 확인\n",
    "print(df_train.shape, df_test.shape)"
   ]
  },
  {
   "cell_type": "code",
   "execution_count": null,
   "metadata": {},
   "outputs": [],
   "source": [
    "# 컬럼별 타입과 Null값 확인\n",
    "print(df_train.info())\n",
    "print()\n",
    "print(df_test.info())"
   ]
  },
  {
   "cell_type": "markdown",
   "metadata": {},
   "source": [
    "# Exploratory Data Analysis 📊🤔"
   ]
  },
  {
   "cell_type": "markdown",
   "metadata": {},
   "source": [
    "## 데이터 정리"
   ]
  },
  {
   "cell_type": "code",
   "execution_count": null,
   "metadata": {},
   "outputs": [],
   "source": [
    "Survived = df_train['Survived']\n",
    "train_idx = df_train.index\n",
    "test_idx = df_test.index"
   ]
  },
  {
   "cell_type": "code",
   "execution_count": null,
   "metadata": {},
   "outputs": [],
   "source": [
    "# 쉬운 분석을 위해 학습데이터와 테스트데이터 프레임 합치기\n",
    "data = pd.concat([df_train.iloc[:,2:], df_test.iloc[:,1:]], axis=0, sort=False)"
   ]
  },
  {
   "cell_type": "markdown",
   "metadata": {},
   "source": [
    "## 합친 데이터 분석"
   ]
  },
  {
   "cell_type": "markdown",
   "metadata": {},
   "source": [
    "### 기본 정보 확인"
   ]
  },
  {
   "cell_type": "code",
   "execution_count": null,
   "metadata": {},
   "outputs": [],
   "source": [
    "data.describe()"
   ]
  },
  {
   "cell_type": "code",
   "execution_count": null,
   "metadata": {},
   "outputs": [],
   "source": [
    "data.info()"
   ]
  },
  {
   "cell_type": "markdown",
   "metadata": {},
   "source": [
    "### 결측치 채우기 위한 분석"
   ]
  },
  {
   "cell_type": "code",
   "execution_count": null,
   "metadata": {},
   "outputs": [],
   "source": [
    "sns.set_style(\"whitegrid\")\n",
    "plt.figure(figsize=(10,5))\n",
    "palette=sns.color_palette(\"pastel\")\n",
    "sns.heatmap(data.isna(), yticklabels=False, cmap=\"YlGnBu\")\n",
    "sns.set\n",
    "plt.show()"
   ]
  },
  {
   "cell_type": "code",
   "execution_count": null,
   "metadata": {},
   "outputs": [],
   "source": [
    "# 'Cabin' 컬럼 드랍\n",
    "data.drop('Cabin', axis=1, inplace=True)"
   ]
  },
  {
   "cell_type": "code",
   "execution_count": null,
   "metadata": {},
   "outputs": [],
   "source": [
    "data[data.Embarked.isna()]"
   ]
  },
  {
   "cell_type": "code",
   "execution_count": null,
   "metadata": {},
   "outputs": [],
   "source": [
    "# 'Pclass'=1인 사람의 Embarked 분포 확인\n",
    "data[data['Pclass']==1]['Embarked'].value_counts()"
   ]
  },
  {
   "cell_type": "code",
   "execution_count": null,
   "metadata": {},
   "outputs": [],
   "source": [
    "# 'Sex'에 따른 'Age' 분포 표시\n",
    "sns.barplot(x=data.groupby('Sex')['Age'].agg(np.mean).index, y=data.groupby('Sex')['Age'].agg(np.mean).values)"
   ]
  },
  {
   "cell_type": "code",
   "execution_count": null,
   "metadata": {},
   "outputs": [],
   "source": [
    "data.groupby('Sex')['Age'].agg(np.mean)"
   ]
  },
  {
   "cell_type": "code",
   "execution_count": null,
   "metadata": {},
   "outputs": [],
   "source": [
    "# 'Pclass'에 따른 'Age' 분포 표시\n",
    "sns.barplot(x=data.groupby('Pclass')['Age'].agg(np.mean).index, y=data.groupby('Pclass')['Age'].agg(np.mean).values)"
   ]
  },
  {
   "cell_type": "code",
   "execution_count": null,
   "metadata": {},
   "outputs": [],
   "source": [
    "data.groupby('Pclass')['Age'].agg(np.mean)"
   ]
  },
  {
   "cell_type": "code",
   "execution_count": null,
   "metadata": {},
   "outputs": [],
   "source": [
    "data[data.Fare.isna()]"
   ]
  },
  {
   "cell_type": "code",
   "execution_count": null,
   "metadata": {},
   "outputs": [],
   "source": [
    "sns.histplot(data.Fare,bins=30)"
   ]
  },
  {
   "cell_type": "code",
   "execution_count": null,
   "metadata": {},
   "outputs": [],
   "source": [
    "data.groupby('Pclass')['Fare'].agg(np.mean)"
   ]
  },
  {
   "cell_type": "markdown",
   "metadata": {},
   "source": [
    "### 학습데이터만 떼어서 분석"
   ]
  },
  {
   "cell_type": "code",
   "execution_count": null,
   "metadata": {},
   "outputs": [],
   "source": [
    "#Creating subset only for EDA\n",
    "\n",
    "data_exp = data.iloc[:891]\n",
    "data_exp['Survived'] = df_train.Survived"
   ]
  },
  {
   "cell_type": "code",
   "execution_count": null,
   "metadata": {},
   "outputs": [],
   "source": [
    "category_names = ['Survived','Not Survived']\n",
    "size = [data_exp['Survived'].value_counts()[1],data_exp['Survived'].value_counts()[0]]\n",
    "\n",
    "# Pie chart \n",
    "plt.figure(figsize=(5,5), dpi=100)\n",
    "plt.pie(size, labels=category_names, textprops={'fontsize':16}, startangle=90, autopct='%1.1f%%',\n",
    "        explode=[0,0.05])\n",
    "plt.show()"
   ]
  },
  {
   "cell_type": "code",
   "execution_count": null,
   "metadata": {},
   "outputs": [],
   "source": [
    "data_exp.groupby('Sex')['Survived'].value_counts()"
   ]
  },
  {
   "cell_type": "code",
   "execution_count": null,
   "metadata": {},
   "outputs": [],
   "source": [
    "data_exp.groupby('Survived')['Embarked'].value_counts()"
   ]
  },
  {
   "cell_type": "code",
   "execution_count": null,
   "metadata": {},
   "outputs": [],
   "source": [
    "data_exp.groupby('Survived')['Fare'].agg(['mean','min','max'])"
   ]
  },
  {
   "cell_type": "code",
   "execution_count": null,
   "metadata": {},
   "outputs": [],
   "source": [
    "fig,ax = plt.subplots(nrows=1,ncols=2,figsize=(20,5))\n",
    "sns.barplot(x=data_exp.SibSp.value_counts().index, y=data_exp.SibSp.value_counts(), ax=ax[0]) \n",
    "ax[0].set_title('SibSp')\n",
    "sns.barplot(x=data_exp.Parch.value_counts().index, y=data_exp.Parch.value_counts(), ax=ax[1])\n",
    "ax[1].set_title('Parch')\n",
    "plt.show()"
   ]
  },
  {
   "cell_type": "code",
   "execution_count": null,
   "metadata": {},
   "outputs": [],
   "source": [
    "data_exp.groupby('Ticket')['Survived'].value_counts()"
   ]
  },
  {
   "cell_type": "markdown",
   "metadata": {},
   "source": [
    "# Data Preprocessing ⚙️🧹"
   ]
  },
  {
   "cell_type": "markdown",
   "metadata": {},
   "source": [
    "## 1차 전처리 함수 선언"
   ]
  },
  {
   "cell_type": "markdown",
   "metadata": {},
   "source": [
    "### 학습데이터와 테스트데이터 합치기"
   ]
  },
  {
   "cell_type": "code",
   "execution_count": null,
   "metadata": {},
   "outputs": [],
   "source": [
    "# 학습데이터와 테스트데이터 합치기\n",
    "def concat_train_test_data(df_train=None, df_test=None):\n",
    "    df = pd.concat([df_train, df_test], axis=0, sort=False).reset_index(drop=True)\n",
    "    # 정수로 고정해야 할 컬럼을 정수형으로 변환\n",
    "    to_int_columns = ['PassengerId', 'Survived']\n",
    "    for column in to_int_columns:\n",
    "        df[column] = df[column].astype(int)\n",
    "    return df"
   ]
  },
  {
   "cell_type": "markdown",
   "metadata": {},
   "source": [
    "### 잘못된 승객정보 정정"
   ]
  },
  {
   "cell_type": "code",
   "execution_count": null,
   "metadata": {},
   "outputs": [],
   "source": [
    "# 잘못된 승객정보 정정\n",
    "# thanks to @Nadezda Demidova : https://www.kaggle.com/demidova/titanic-eda-tutorial-with-seaborn\n",
    "def correct_wrong_passenger_info(df=None):\n",
    "    df.loc[df['PassengerId'] == 631, 'Age'] = 48\n",
    "\n",
    "    # Passengers with wrong number of siblings and parch\n",
    "    df.loc[df['PassengerId'] == 69, ['SibSp', 'Parch']] = [0,0]\n",
    "    df.loc[df['PassengerId'] == 1106, ['SibSp', 'Parch']] = [0,0]\n",
    "    \n",
    "    return df"
   ]
  },
  {
   "cell_type": "markdown",
   "metadata": {},
   "source": [
    "### 'Title' 컬럼 생성"
   ]
  },
  {
   "cell_type": "code",
   "execution_count": null,
   "metadata": {},
   "outputs": [],
   "source": [
    "# 'Name' 컬럼에서 'Title' 컬럼 생성하기\n",
    "# 의미있는 호칭(Mr, Mrs, Miss, Master)을 추출하는 과정입니다.\n",
    "\n",
    "# 'Title' 생성하는 함수\n",
    "def get_Title(name=None):\n",
    "    top4_titles = ('Mr', 'Mrs', 'Miss', 'Master')\n",
    "\n",
    "    # top4 호칭으로 바꿔줄 소수 여성 호칭\n",
    "    female_titles_to_Mrs = ('Mme', 'the Countess', 'Dona', 'Lady')\n",
    "    female_titles_to_Miss = ('Mlle', 'Ms')\n",
    "\n",
    "    # top4 호칭으로 바꿔줄 소수 남성 호칭\n",
    "    male_titles_to_Mr = ('Major', 'Col', 'Capt', 'Don', 'Sir', 'Jonkheer', 'Rev')\n",
    "\n",
    "    # 예 : \"Braund, Mr. Owen Harris\"에서 'Mr' 추출\n",
    "    # '.'(마침표) 기준으로 이름을 자르고, ','(콤마) 제거\n",
    "    title = name.split('.')[0].split(', ')[-1]\n",
    "\n",
    "    # 호칭에 따라 변환해서 리턴\n",
    "    if title in top4_titles:\n",
    "        return title\n",
    "    elif title in female_titles_to_Mrs:\n",
    "        return 'Mrs'\n",
    "    elif title in female_titles_to_Miss:\n",
    "        return 'Miss'\n",
    "    elif title in male_titles_to_Mr:\n",
    "        return 'Mr'\n",
    "    else:\n",
    "        return title"
   ]
  },
  {
   "cell_type": "code",
   "execution_count": null,
   "metadata": {},
   "outputs": [],
   "source": [
    "# 남녀 양쪽 전부 존재하는 호칭 처리 함수\n",
    "def processing_title_on_both_side(df=None):\n",
    "    # 조건 설정\n",
    "    title_on_both_side = ['Dr']\n",
    "    cond_mr = (df['Sex'] == 'male') & (df['Title'].isin(title_on_both_side))\n",
    "    cond_mrs = (df['Sex'] == 'female') & (df['Title'].isin(title_on_both_side))\n",
    "    \n",
    "    # 치환\n",
    "    df.loc[cond_mr, 'Title'] = 'Mr'\n",
    "    df.loc[cond_mrs, 'Title'] = 'Mrs'\n",
    "    \n",
    "    return df"
   ]
  },
  {
   "cell_type": "code",
   "execution_count": null,
   "metadata": {},
   "outputs": [],
   "source": [
    "# 'Title'(호칭) 생성\n",
    "def make_Title(df=None):\n",
    "    df['Title'] = df['Name'].map(get_Title)\n",
    "    \n",
    "    # 남녀 양쪽 전부 존재하는 호칭에 대한 처리\n",
    "    df = processing_title_on_both_side(df)\n",
    "    \n",
    "    return df"
   ]
  },
  {
   "cell_type": "markdown",
   "metadata": {},
   "source": [
    "### 단일 피쳐 생성"
   ]
  },
  {
   "cell_type": "code",
   "execution_count": null,
   "metadata": {},
   "outputs": [],
   "source": [
    "# 'Surname'(성씨) 생성\n",
    "def make_Surname(df=None):\n",
    "    df['Surname'] = df['Name'].map(lambda name: name.split(',')[0].strip())\n",
    "    return df"
   ]
  },
  {
   "cell_type": "code",
   "execution_count": null,
   "metadata": {},
   "outputs": [],
   "source": [
    "# 'Family', 'IsAlone' 생성\n",
    "def make_Family_IsAlone(df=None):\n",
    "    df['Family'] = df['SibSp'].astype(int) + df['Parch'].astype(int)\n",
    "    # df['IsAlone'] = (df['Family'] <= 1).astype(int)\n",
    "    return df"
   ]
  },
  {
   "cell_type": "markdown",
   "metadata": {},
   "source": [
    "### 피쳐 튜닝"
   ]
  },
  {
   "cell_type": "code",
   "execution_count": null,
   "metadata": {},
   "outputs": [],
   "source": [
    "# 'Cabin' 컬럼 매핑\n",
    "def mapping_Cabin(df=None):\n",
    "    # 결측치를 전부 'U'로 대체\n",
    "    df['Cabin'] = df['Cabin'].fillna('U')\n",
    "    # 첫 알파벳(Deck)만 추출\n",
    "    df['Cabin'] = df['Cabin'].map(lambda x: re.compile(\"([a-zA-Z]+)\").search(x).group())\n",
    "    cabin_category = {'A':9, 'B':8, 'C':7, 'D':6, 'E':5, 'F':4, 'G':3, 'T':2, 'U':1}\n",
    "    # Mapping\n",
    "    df['Cabin'] = df['Cabin'].map(cabin_category)\n",
    "    return df"
   ]
  },
  {
   "cell_type": "markdown",
   "metadata": {},
   "source": [
    "## 1차 전처리 함수 모음"
   ]
  },
  {
   "cell_type": "code",
   "execution_count": null,
   "metadata": {},
   "outputs": [],
   "source": [
    "# 1차 전처리 함수 모음\n",
    "def first_preprocessing(df_train=None, df_test=None):\n",
    "    # 학습데이터와 전처리데이터 합치기\n",
    "    df = concat_train_test_data(df_train, df_test)\n",
    "    \n",
    "    # 잘못된 승객정보 정정\n",
    "    df = correct_wrong_passenger_info(df)\n",
    "    \n",
    "    # 호칭 만들기\n",
    "    df = make_Title(df)\n",
    "    \n",
    "    # 'Surname'(성씨) 생성\n",
    "    df = make_Surname(df)\n",
    "    \n",
    "    # 'Family', 'IsAlone' 생성\n",
    "    df = make_Family_IsAlone(df)\n",
    "    \n",
    "    # 'Cabin' 컬럼 매핑\n",
    "    # df = mapping_Cabin(df)\n",
    "       \n",
    "    return df"
   ]
  },
  {
   "cell_type": "code",
   "execution_count": null,
   "metadata": {},
   "outputs": [],
   "source": [
    "# 1차 전처리 함수 실행\n",
    "df = first_preprocessing(df_train, df_test)"
   ]
  },
  {
   "cell_type": "markdown",
   "metadata": {},
   "source": [
    "## 1차 전처리 후 통계 확인"
   ]
  },
  {
   "cell_type": "markdown",
   "metadata": {},
   "source": [
    "### 'Age' 결측치 채우기 위한 확인"
   ]
  },
  {
   "cell_type": "code",
   "execution_count": null,
   "metadata": {},
   "outputs": [
    {
     "data": {
      "text/html": [
       "<div>\n",
       "<style scoped>\n",
       "    .dataframe tbody tr th:only-of-type {\n",
       "        vertical-align: middle;\n",
       "    }\n",
       "\n",
       "    .dataframe tbody tr th {\n",
       "        vertical-align: top;\n",
       "    }\n",
       "\n",
       "    .dataframe thead th {\n",
       "        text-align: right;\n",
       "    }\n",
       "</style>\n",
       "<table border=\"1\" class=\"dataframe\">\n",
       "  <thead>\n",
       "    <tr style=\"text-align: right;\">\n",
       "      <th></th>\n",
       "      <th>mean</th>\n",
       "      <th>median</th>\n",
       "    </tr>\n",
       "    <tr>\n",
       "      <th>Title</th>\n",
       "      <th></th>\n",
       "      <th></th>\n",
       "    </tr>\n",
       "  </thead>\n",
       "  <tbody>\n",
       "    <tr>\n",
       "      <th>Master</th>\n",
       "      <td>5.482642</td>\n",
       "      <td>4.0</td>\n",
       "    </tr>\n",
       "    <tr>\n",
       "      <th>Miss</th>\n",
       "      <td>21.824366</td>\n",
       "      <td>22.0</td>\n",
       "    </tr>\n",
       "    <tr>\n",
       "      <th>Mr</th>\n",
       "      <td>32.731405</td>\n",
       "      <td>30.0</td>\n",
       "    </tr>\n",
       "    <tr>\n",
       "      <th>Mrs</th>\n",
       "      <td>37.040000</td>\n",
       "      <td>36.0</td>\n",
       "    </tr>\n",
       "  </tbody>\n",
       "</table>\n",
       "</div>"
      ],
      "text/plain": [
       "             mean  median\n",
       "Title                    \n",
       "Master   5.482642     4.0\n",
       "Miss    21.824366    22.0\n",
       "Mr      32.731405    30.0\n",
       "Mrs     37.040000    36.0"
      ]
     },
     "metadata": {},
     "output_type": "display_data"
    }
   ],
   "source": [
    "df.groupby('Title')['Age'].agg({'mean', 'median'})"
   ]
  },
  {
   "cell_type": "markdown",
   "metadata": {},
   "source": [
    "### 'Fare' 결측치 채우기 위한 확인"
   ]
  },
  {
   "cell_type": "code",
   "execution_count": null,
   "metadata": {},
   "outputs": [
    {
     "data": {
      "text/html": [
       "<div>\n",
       "<style scoped>\n",
       "    .dataframe tbody tr th:only-of-type {\n",
       "        vertical-align: middle;\n",
       "    }\n",
       "\n",
       "    .dataframe tbody tr th {\n",
       "        vertical-align: top;\n",
       "    }\n",
       "\n",
       "    .dataframe thead th {\n",
       "        text-align: right;\n",
       "    }\n",
       "</style>\n",
       "<table border=\"1\" class=\"dataframe\">\n",
       "  <thead>\n",
       "    <tr style=\"text-align: right;\">\n",
       "      <th></th>\n",
       "      <th>mean</th>\n",
       "      <th>max</th>\n",
       "      <th>median</th>\n",
       "    </tr>\n",
       "    <tr>\n",
       "      <th>Pclass</th>\n",
       "      <th></th>\n",
       "      <th></th>\n",
       "      <th></th>\n",
       "    </tr>\n",
       "  </thead>\n",
       "  <tbody>\n",
       "    <tr>\n",
       "      <th>1</th>\n",
       "      <td>87.508992</td>\n",
       "      <td>512.3292</td>\n",
       "      <td>60.0000</td>\n",
       "    </tr>\n",
       "    <tr>\n",
       "      <th>2</th>\n",
       "      <td>21.179196</td>\n",
       "      <td>73.5000</td>\n",
       "      <td>15.0458</td>\n",
       "    </tr>\n",
       "    <tr>\n",
       "      <th>3</th>\n",
       "      <td>13.302889</td>\n",
       "      <td>69.5500</td>\n",
       "      <td>8.0500</td>\n",
       "    </tr>\n",
       "  </tbody>\n",
       "</table>\n",
       "</div>"
      ],
      "text/plain": [
       "             mean       max   median\n",
       "Pclass                              \n",
       "1       87.508992  512.3292  60.0000\n",
       "2       21.179196   73.5000  15.0458\n",
       "3       13.302889   69.5500   8.0500"
      ]
     },
     "metadata": {},
     "output_type": "display_data"
    }
   ],
   "source": [
    "df.groupby('Pclass')['Fare'].agg({'mean', 'median', 'max'})"
   ]
  },
  {
   "cell_type": "markdown",
   "metadata": {},
   "source": [
    "### 'Embarked' 결측치 채우기 위한 확인"
   ]
  },
  {
   "cell_type": "code",
   "execution_count": null,
   "metadata": {},
   "outputs": [
    {
     "data": {
      "text/html": [
       "<div>\n",
       "<style scoped>\n",
       "    .dataframe tbody tr th:only-of-type {\n",
       "        vertical-align: middle;\n",
       "    }\n",
       "\n",
       "    .dataframe tbody tr th {\n",
       "        vertical-align: top;\n",
       "    }\n",
       "\n",
       "    .dataframe thead th {\n",
       "        text-align: right;\n",
       "    }\n",
       "</style>\n",
       "<table border=\"1\" class=\"dataframe\">\n",
       "  <thead>\n",
       "    <tr style=\"text-align: right;\">\n",
       "      <th></th>\n",
       "      <th>Name</th>\n",
       "      <th>Pclass</th>\n",
       "      <th>Sex</th>\n",
       "      <th>Title</th>\n",
       "    </tr>\n",
       "  </thead>\n",
       "  <tbody>\n",
       "    <tr>\n",
       "      <th>61</th>\n",
       "      <td>Icard, Miss. Amelie</td>\n",
       "      <td>1</td>\n",
       "      <td>female</td>\n",
       "      <td>Miss</td>\n",
       "    </tr>\n",
       "    <tr>\n",
       "      <th>829</th>\n",
       "      <td>Stone, Mrs. George Nelson (Martha Evelyn)</td>\n",
       "      <td>1</td>\n",
       "      <td>female</td>\n",
       "      <td>Mrs</td>\n",
       "    </tr>\n",
       "  </tbody>\n",
       "</table>\n",
       "</div>"
      ],
      "text/plain": [
       "                                          Name  Pclass     Sex Title\n",
       "61                         Icard, Miss. Amelie       1  female  Miss\n",
       "829  Stone, Mrs. George Nelson (Martha Evelyn)       1  female   Mrs"
      ]
     },
     "metadata": {},
     "output_type": "display_data"
    }
   ],
   "source": [
    "df.loc[df['Embarked'].isnull()][['Name', 'Pclass', 'Sex', 'Title']]"
   ]
  },
  {
   "cell_type": "code",
   "execution_count": null,
   "metadata": {},
   "outputs": [
    {
     "data": {
      "text/plain": [
       "Pclass  Embarked\n",
       "1       S           177\n",
       "        C           141\n",
       "        Q             3\n",
       "2       S           242\n",
       "        C            28\n",
       "        Q             7\n",
       "3       S           495\n",
       "        Q           113\n",
       "        C           101\n",
       "Name: count, dtype: int64"
      ]
     },
     "metadata": {},
     "output_type": "display_data"
    }
   ],
   "source": [
    "df.groupby('Pclass')['Embarked'].value_counts()"
   ]
  },
  {
   "cell_type": "markdown",
   "metadata": {},
   "source": [
    "## 2차 전처리 함수 선언"
   ]
  },
  {
   "cell_type": "markdown",
   "metadata": {},
   "source": [
    "### 결측치 채우기"
   ]
  },
  {
   "cell_type": "code",
   "execution_count": null,
   "metadata": {},
   "outputs": [],
   "source": [
    "# 'Age' 컬럼 결측치 채우기\n",
    "def Age_Imputer(df=None):\n",
    "    df['Age'] = df.groupby('Title')['Age'].transform(lambda x: x.fillna(x.median())) \n",
    "    df['Age'] = df['Age'].astype('int64')    \n",
    "    return df"
   ]
  },
  {
   "cell_type": "code",
   "execution_count": null,
   "metadata": {},
   "outputs": [],
   "source": [
    "# 'Fare' 컬럼 결측치 채우기\n",
    "def Fare_Imputer(df=None):\n",
    "    df['Fare'] = df.groupby('Pclass')['Fare'].transform(lambda x: x.fillna(x.mean())) \n",
    "    return df"
   ]
  },
  {
   "cell_type": "code",
   "execution_count": null,
   "metadata": {},
   "outputs": [],
   "source": [
    "# 'Embarked' 컬럼 결측치 채우기\n",
    "def Embarked_Imputer(df=None):\n",
    "    # Null인 두 사람이 전부 Pclass=1 => '1'에는 'S'가 제일 많다.\n",
    "    df.loc[df['Embarked'].isnull(), 'Embarked'] = 'S'\n",
    "    return df"
   ]
  },
  {
   "cell_type": "code",
   "execution_count": null,
   "metadata": {},
   "outputs": [],
   "source": [
    "# 결측치 채우는 함수\n",
    "def Data_Imputer(df=None):\n",
    "    df = Age_Imputer(df)\n",
    "    df = Fare_Imputer(df)\n",
    "    df = Embarked_Imputer(df)\n",
    "    return df"
   ]
  },
  {
   "cell_type": "markdown",
   "metadata": {},
   "source": [
    "### 'Family_Survival' 컬럼 생성\n",
    "---\n",
    "* 이 컬럼에 대한 자세한 정보는 https://www.kaggle.com/code/shunjiangxu/blood-is-thicker-than-water-friendship-forever/notebook 를 참고하세요.\n",
    "---"
   ]
  },
  {
   "cell_type": "code",
   "execution_count": null,
   "metadata": {},
   "outputs": [],
   "source": [
    "# 'Family_Survival' 컬럼 생성\n",
    "def make_Family_Survival(df=None):\n",
    "    def_survive_val = 0.5\n",
    "    df['Family_Survival'] = def_survive_val\n",
    "    survive_df = df[['Survived', 'Name', 'Surname'\n",
    "                     , 'Fare', 'Ticket', 'PassengerId'\n",
    "                     , 'SibSp', 'Parch', 'Age', 'Cabin']]\n",
    "    \n",
    "    for grp, grp_df in survive_df.groupby(['Surname', 'Fare']):\n",
    "        if (len(grp_df) != 1):\n",
    "            # 가족 그룹(같은 성씨, Fare 2명 이상)을 찾았다.\n",
    "            for idx, row in grp_df.iterrows():\n",
    "                max_sur = grp_df.drop(idx)['Survived'].max()\n",
    "                min_sur = grp_df.drop(idx)['Survived'].min()\n",
    "                passID = row['PassengerId']\n",
    "                # 다른 가족의 생존 여부를 이 컬럼에 기록함\n",
    "                if (max_sur == 1.0):\n",
    "                    df.loc[df['PassengerId'] == passID, 'Family_Survival'] = 1\n",
    "                elif (min_sur == 0.0):\n",
    "                    df.loc[df['PassengerId'] == passID, 'Family_Survival'] = 0\n",
    "                    \n",
    "    for _, grp_df in df.groupby('Ticket'):\n",
    "        if (len(grp_df) != 1):\n",
    "            # 같은 티켓번호를 가진 다른 사람을 찾았다.\n",
    "            for idx, row in grp_df.iterrows():\n",
    "                if (row['Family_Survival'] == 0) | (row['Family_Survival']== 0.5):\n",
    "                    max_sur = grp_df.drop(idx)['Survived'].max()\n",
    "                    min_sur = grp_df.drop(idx)['Survived'].min()\n",
    "                    passID = row['PassengerId']\n",
    "                    # 같은 티켓번호를 가진 다른 사람의 생존 여부를 이 컬럼에 기록함\n",
    "                    if (max_sur == 1.0):\n",
    "                        df.loc[df['PassengerId'] == passID, 'Family_Survival'] = 1\n",
    "                    elif (min_sur == 0.0):\n",
    "                        df.loc[df['PassengerId'] == passID, 'Family_Survival'] = 0\n",
    "                    \n",
    "    return df"
   ]
  },
  {
   "cell_type": "markdown",
   "metadata": {},
   "source": [
    "### 추가 피쳐 생성 및 매핑"
   ]
  },
  {
   "cell_type": "code",
   "execution_count": null,
   "metadata": {},
   "outputs": [],
   "source": [
    "# 카테고리화 피쳐 생성\n",
    "def make_categorical_columns(df=None):\n",
    "    # 'Age_Cat' 생성\n",
    "    df['Age_Cat'] = pd.qcut(df['Age'], 4)\n",
    "    # 'Fare_Cat' 생성\n",
    "    df['Fare_Cat'] = pd.qcut(df['Fare'], 4)\n",
    "    return df"
   ]
  },
  {
   "cell_type": "markdown",
   "metadata": {},
   "source": [
    "### 레이블 인코딩"
   ]
  },
  {
   "cell_type": "code",
   "execution_count": null,
   "metadata": {},
   "outputs": [],
   "source": [
    "# 레이블 인코딩\n",
    "def label_encoder(df=None):\n",
    "    encoder = LabelEncoder()\n",
    "    columns = ['Sex', 'Embarked', 'Title', 'Fare_Cat', 'Age_Cat']\n",
    "    for column in columns:\n",
    "        df[column] = encoder.fit_transform(df[column])\n",
    "    \n",
    "    return df"
   ]
  },
  {
   "cell_type": "markdown",
   "metadata": {},
   "source": [
    "### 컬럼명을 강제로 str로 형변환"
   ]
  },
  {
   "cell_type": "code",
   "execution_count": null,
   "metadata": {},
   "outputs": [],
   "source": [
    "# 컬럼명을 강제로 str로 형변환\n",
    "# 알고리즘에 따라 이 작업이 필요합니다.\n",
    "def columns_index_to_str_type(df=None):\n",
    "    df.columns = df.columns.astype(str)\n",
    "    return df"
   ]
  },
  {
   "cell_type": "markdown",
   "metadata": {},
   "source": [
    "### 필요없는 컬럼들 드랍"
   ]
  },
  {
   "cell_type": "code",
   "execution_count": null,
   "metadata": {},
   "outputs": [],
   "source": [
    "# 필요없는 컬럽들 드랍\n",
    "def drop_columns(df=None):\n",
    "    columns = ['Title', 'Fare', 'Age', 'Name'\n",
    "               , 'PassengerId', 'SibSp', 'Parch'\n",
    "               , 'Ticket', 'Cabin', 'Embarked', 'Surname']\n",
    "    df.drop(columns=columns, inplace=True)\n",
    "    \n",
    "    return df"
   ]
  },
  {
   "cell_type": "markdown",
   "metadata": {},
   "source": [
    "## 2차 전처리 함수 모음"
   ]
  },
  {
   "cell_type": "code",
   "execution_count": null,
   "metadata": {},
   "outputs": [],
   "source": [
    "# 2차 전처리 함수 모음\n",
    "def second_preprocessing(df=None):\n",
    "    # 결측치 채우기\n",
    "    df = Data_Imputer(df)\n",
    "    \n",
    "    # 'Family_Survival' 컬럼 생성\n",
    "    df = make_Family_Survival(df)\n",
    "    \n",
    "    # 카테고리화 컬럼 생성\n",
    "    df = make_categorical_columns(df)\n",
    "    \n",
    "    # 레이블 인코딩\n",
    "    df = label_encoder(df)\n",
    "    \n",
    "    # 컬럼명을 강제로 str로 형변환\n",
    "    df = columns_index_to_str_type(df)\n",
    "    \n",
    "    # 필요없는 컬럼들 드랍\n",
    "    df = drop_columns(df)\n",
    "    \n",
    "    return df"
   ]
  },
  {
   "cell_type": "code",
   "execution_count": null,
   "metadata": {},
   "outputs": [],
   "source": [
    "# 2차 전처리 함수 실행\n",
    "df = second_preprocessing(df)"
   ]
  },
  {
   "cell_type": "markdown",
   "metadata": {},
   "source": [
    "## 전처리 결과 확인"
   ]
  },
  {
   "cell_type": "markdown",
   "metadata": {},
   "source": [
    "### 결측치 존재여부 확인"
   ]
  },
  {
   "cell_type": "code",
   "execution_count": null,
   "metadata": {},
   "outputs": [
    {
     "data": {
      "text/plain": [
       "Survived           418\n",
       "Pclass               0\n",
       "Sex                  0\n",
       "Family               0\n",
       "Family_Survival      0\n",
       "Age_Cat              0\n",
       "Fare_Cat             0\n",
       "dtype: int64"
      ]
     },
     "metadata": {},
     "output_type": "display_data"
    }
   ],
   "source": [
    "df.isnull().sum()"
   ]
  },
  {
   "cell_type": "markdown",
   "metadata": {},
   "source": [
    "### 피어슨 계수 행렬 시각화"
   ]
  },
  {
   "cell_type": "code",
   "execution_count": null,
   "metadata": {},
   "outputs": [],
   "source": [
    "# 피어슨 계수 행렬 시각화\n",
    "def plot_Pearson_heatmap(df=None):\n",
    "    corr_matrix = pd.get_dummies(df).corr(method='pearson')\n",
    "\n",
    "    plt.figure(figsize=(12, 12))\n",
    "    sns.heatmap(\n",
    "        corr_matrix, annot=True, cmap='coolwarm', fmt=\".2f\"\n",
    "    )\n",
    "    plt.title(\"Pearson Correlation Heatmap\")\n",
    "    plt.show()\n",
    "    return\n",
    "\n",
    "# plot_Pearson_heatmap(df)"
   ]
  },
  {
   "cell_type": "markdown",
   "metadata": {},
   "source": [
    "### 데이터프레임 확인"
   ]
  },
  {
   "cell_type": "code",
   "execution_count": null,
   "metadata": {},
   "outputs": [
    {
     "data": {
      "text/html": [
       "<div>\n",
       "<style scoped>\n",
       "    .dataframe tbody tr th:only-of-type {\n",
       "        vertical-align: middle;\n",
       "    }\n",
       "\n",
       "    .dataframe tbody tr th {\n",
       "        vertical-align: top;\n",
       "    }\n",
       "\n",
       "    .dataframe thead th {\n",
       "        text-align: right;\n",
       "    }\n",
       "</style>\n",
       "<table border=\"1\" class=\"dataframe\">\n",
       "  <thead>\n",
       "    <tr style=\"text-align: right;\">\n",
       "      <th></th>\n",
       "      <th>Survived</th>\n",
       "      <th>Pclass</th>\n",
       "      <th>Sex</th>\n",
       "      <th>Family</th>\n",
       "      <th>Family_Survival</th>\n",
       "      <th>Age_Cat</th>\n",
       "      <th>Fare_Cat</th>\n",
       "    </tr>\n",
       "  </thead>\n",
       "  <tbody>\n",
       "    <tr>\n",
       "      <th>0</th>\n",
       "      <td>0.0</td>\n",
       "      <td>3</td>\n",
       "      <td>0</td>\n",
       "      <td>1</td>\n",
       "      <td>0.5</td>\n",
       "      <td>0</td>\n",
       "      <td>0</td>\n",
       "    </tr>\n",
       "    <tr>\n",
       "      <th>1</th>\n",
       "      <td>1.0</td>\n",
       "      <td>1</td>\n",
       "      <td>1</td>\n",
       "      <td>1</td>\n",
       "      <td>0.5</td>\n",
       "      <td>3</td>\n",
       "      <td>3</td>\n",
       "    </tr>\n",
       "    <tr>\n",
       "      <th>2</th>\n",
       "      <td>1.0</td>\n",
       "      <td>3</td>\n",
       "      <td>1</td>\n",
       "      <td>0</td>\n",
       "      <td>0.5</td>\n",
       "      <td>1</td>\n",
       "      <td>1</td>\n",
       "    </tr>\n",
       "  </tbody>\n",
       "</table>\n",
       "</div>"
      ],
      "text/plain": [
       "   Survived  Pclass  Sex  Family  Family_Survival  Age_Cat  Fare_Cat\n",
       "0       0.0       3    0       1              0.5        0         0\n",
       "1       1.0       1    1       1              0.5        3         3\n",
       "2       1.0       3    1       0              0.5        1         1"
      ]
     },
     "metadata": {},
     "output_type": "display_data"
    }
   ],
   "source": [
    "df.head(3)"
   ]
  }
 ],
 "metadata": {
  "kernelspec": {
   "display_name": "ml-dev",
   "language": "python",
   "name": "python3"
  },
  "language_info": {
   "codemirror_mode": {
    "name": "ipython",
    "version": 3
   },
   "file_extension": ".py",
   "mimetype": "text/x-python",
   "name": "python",
   "nbconvert_exporter": "python",
   "pygments_lexer": "ipython3",
   "version": "3.10.13"
  }
 },
 "nbformat": 4,
 "nbformat_minor": 2
}
