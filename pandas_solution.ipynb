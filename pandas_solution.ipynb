{
 "cells": [
  {
   "cell_type": "markdown",
   "metadata": {},
   "source": [
    "### 585. Investments in 2016\n",
    "\n",
    "https://leetcode.com/problems/investments-in-2016/?lang=pythondata"
   ]
  },
  {
   "cell_type": "markdown",
   "metadata": {},
   "source": [
    "### 테이블 구조"
   ]
  },
  {
   "cell_type": "raw",
   "metadata": {},
   "source": [
    "Table: Insurance\n",
    "\n",
    "+-------------+-------+\n",
    "| Column Name | Type  |\n",
    "+-------------+-------+\n",
    "| pid         | int   |\n",
    "| tiv_2015    | float |\n",
    "| tiv_2016    | float |\n",
    "| lat         | float |\n",
    "| lon         | float |\n",
    "+-------------+-------+\n",
    "pid is the primary key (column with unique values) for this table.\n",
    "Each row of this table contains information about one policy where:\n",
    "pid is the policyholder's policy ID.\n",
    "tiv_2015 is the total investment value in 2015 and tiv_2016 is the total investment value in 2016.\n",
    "lat is the latitude of the policy holder's city. It's guaranteed that lat is not NULL.\n",
    "lon is the longitude of the policy holder's city. It's guaranteed that lon is not NULL."
   ]
  },
  {
   "cell_type": "markdown",
   "metadata": {},
   "source": [
    "### 문제"
   ]
  },
  {
   "cell_type": "raw",
   "metadata": {},
   "source": [
    "Write a solution to report the sum of all total investment values in 2016 tiv_2016, for all policyholders who:\n",
    "\n",
    "have the same tiv_2015 value as one or more other policyholders, and\n",
    "are not located in the same city as any other policyholder (i.e., the (lat, lon) attribute pairs must be unique).\n",
    "Round tiv_2016 to two decimal places.\n",
    "\n",
    "The result format is in the following example."
   ]
  },
  {
   "cell_type": "markdown",
   "metadata": {},
   "source": [
    "### Output"
   ]
  },
  {
   "cell_type": "raw",
   "metadata": {},
   "source": [
    "Output: \n",
    "+----------+\n",
    "| tiv_2016 |\n",
    "+----------+\n",
    "| 45.00    |\n",
    "+----------+"
   ]
  },
  {
   "cell_type": "markdown",
   "metadata": {},
   "source": [
    "### 모듈 import"
   ]
  },
  {
   "cell_type": "code",
   "execution_count": 1,
   "metadata": {},
   "outputs": [],
   "source": [
    "import pandas as pd\n",
    "import numpy as np\n",
    "import warnings\n",
    "\n",
    "warnings.filterwarnings('ignore')"
   ]
  },
  {
   "cell_type": "markdown",
   "metadata": {},
   "source": [
    "### DataFrame"
   ]
  },
  {
   "cell_type": "code",
   "execution_count": 2,
   "metadata": {},
   "outputs": [],
   "source": [
    "data = [[1, 10, 5, 10, 10], [2, 20, 20, 20, 20], [3, 10, 30, 20, 20], [4, 10, 40, 40, 40]]\n",
    "insurance = pd.DataFrame(data, columns=['pid', 'tiv_2015', 'tiv_2016', 'lat', 'lon']).astype({'pid':'Int64', 'tiv_2015':'Float64', 'tiv_2016':'Float64', 'lat':'Float64', 'lon':'Float64'})"
   ]
  },
  {
   "cell_type": "code",
   "execution_count": 3,
   "metadata": {},
   "outputs": [
    {
     "data": {
      "text/html": [
       "<div>\n",
       "<style scoped>\n",
       "    .dataframe tbody tr th:only-of-type {\n",
       "        vertical-align: middle;\n",
       "    }\n",
       "\n",
       "    .dataframe tbody tr th {\n",
       "        vertical-align: top;\n",
       "    }\n",
       "\n",
       "    .dataframe thead th {\n",
       "        text-align: right;\n",
       "    }\n",
       "</style>\n",
       "<table border=\"1\" class=\"dataframe\">\n",
       "  <thead>\n",
       "    <tr style=\"text-align: right;\">\n",
       "      <th></th>\n",
       "      <th>pid</th>\n",
       "      <th>tiv_2015</th>\n",
       "      <th>tiv_2016</th>\n",
       "      <th>lat</th>\n",
       "      <th>lon</th>\n",
       "    </tr>\n",
       "  </thead>\n",
       "  <tbody>\n",
       "    <tr>\n",
       "      <th>0</th>\n",
       "      <td>1</td>\n",
       "      <td>10.0</td>\n",
       "      <td>5.0</td>\n",
       "      <td>10.0</td>\n",
       "      <td>10.0</td>\n",
       "    </tr>\n",
       "    <tr>\n",
       "      <th>1</th>\n",
       "      <td>2</td>\n",
       "      <td>20.0</td>\n",
       "      <td>20.0</td>\n",
       "      <td>20.0</td>\n",
       "      <td>20.0</td>\n",
       "    </tr>\n",
       "    <tr>\n",
       "      <th>2</th>\n",
       "      <td>3</td>\n",
       "      <td>10.0</td>\n",
       "      <td>30.0</td>\n",
       "      <td>20.0</td>\n",
       "      <td>20.0</td>\n",
       "    </tr>\n",
       "    <tr>\n",
       "      <th>3</th>\n",
       "      <td>4</td>\n",
       "      <td>10.0</td>\n",
       "      <td>40.0</td>\n",
       "      <td>40.0</td>\n",
       "      <td>40.0</td>\n",
       "    </tr>\n",
       "  </tbody>\n",
       "</table>\n",
       "</div>"
      ],
      "text/plain": [
       "   pid  tiv_2015  tiv_2016   lat   lon\n",
       "0    1      10.0       5.0  10.0  10.0\n",
       "1    2      20.0      20.0  20.0  20.0\n",
       "2    3      10.0      30.0  20.0  20.0\n",
       "3    4      10.0      40.0  40.0  40.0"
      ]
     },
     "execution_count": 3,
     "metadata": {},
     "output_type": "execute_result"
    }
   ],
   "source": [
    "insurance"
   ]
  },
  {
   "cell_type": "markdown",
   "metadata": {},
   "source": [
    "### 문제풀이"
   ]
  },
  {
   "cell_type": "code",
   "execution_count": 8,
   "metadata": {},
   "outputs": [
    {
     "ename": "TypeError",
     "evalue": "unique() takes 1 positional argument but 2 were given",
     "output_type": "error",
     "traceback": [
      "\u001b[1;31m---------------------------------------------------------------------------\u001b[0m",
      "\u001b[1;31mTypeError\u001b[0m                                 Traceback (most recent call last)",
      "\u001b[1;32mc:\\education\\lsh_dev\\pandas_solution.ipynb 셀 14\u001b[0m line \u001b[0;36m2\n\u001b[0;32m      <a href='vscode-notebook-cell:/c%3A/education/lsh_dev/pandas_solution.ipynb#X22sZmlsZQ%3D%3D?line=0'>1</a>\u001b[0m cond \u001b[39m=\u001b[39m insurance[\u001b[39m'\u001b[39m\u001b[39mtiv_2015\u001b[39m\u001b[39m'\u001b[39m]\u001b[39m.\u001b[39munique\n\u001b[1;32m----> <a href='vscode-notebook-cell:/c%3A/education/lsh_dev/pandas_solution.ipynb#X22sZmlsZQ%3D%3D?line=1'>2</a>\u001b[0m df \u001b[39m=\u001b[39m insurance[cond]\n\u001b[0;32m      <a href='vscode-notebook-cell:/c%3A/education/lsh_dev/pandas_solution.ipynb#X22sZmlsZQ%3D%3D?line=2'>3</a>\u001b[0m df\n",
      "File \u001b[1;32mc:\\ProgramData\\anaconda3\\envs\\test\\lib\\site-packages\\pandas\\core\\frame.py:3859\u001b[0m, in \u001b[0;36mDataFrame.__getitem__\u001b[1;34m(self, key)\u001b[0m\n\u001b[0;32m   3857\u001b[0m check_dict_or_set_indexers(key)\n\u001b[0;32m   3858\u001b[0m key \u001b[39m=\u001b[39m lib\u001b[39m.\u001b[39mitem_from_zerodim(key)\n\u001b[1;32m-> 3859\u001b[0m key \u001b[39m=\u001b[39m com\u001b[39m.\u001b[39;49mapply_if_callable(key, \u001b[39mself\u001b[39;49m)\n\u001b[0;32m   3861\u001b[0m \u001b[39mif\u001b[39;00m is_hashable(key) \u001b[39mand\u001b[39;00m \u001b[39mnot\u001b[39;00m is_iterator(key):\n\u001b[0;32m   3862\u001b[0m     \u001b[39m# is_iterator to exclude generator e.g. test_getitem_listlike\u001b[39;00m\n\u001b[0;32m   3863\u001b[0m     \u001b[39m# shortcut if the key is in columns\u001b[39;00m\n\u001b[0;32m   3864\u001b[0m     is_mi \u001b[39m=\u001b[39m \u001b[39misinstance\u001b[39m(\u001b[39mself\u001b[39m\u001b[39m.\u001b[39mcolumns, MultiIndex)\n",
      "File \u001b[1;32mc:\\ProgramData\\anaconda3\\envs\\test\\lib\\site-packages\\pandas\\core\\common.py:379\u001b[0m, in \u001b[0;36mapply_if_callable\u001b[1;34m(maybe_callable, obj, **kwargs)\u001b[0m\n\u001b[0;32m    368\u001b[0m \u001b[39m\u001b[39m\u001b[39m\"\"\"\u001b[39;00m\n\u001b[0;32m    369\u001b[0m \u001b[39mEvaluate possibly callable input using obj and kwargs if it is callable,\u001b[39;00m\n\u001b[0;32m    370\u001b[0m \u001b[39motherwise return as it is.\u001b[39;00m\n\u001b[1;32m   (...)\u001b[0m\n\u001b[0;32m    376\u001b[0m \u001b[39m**kwargs\u001b[39;00m\n\u001b[0;32m    377\u001b[0m \u001b[39m\"\"\"\u001b[39;00m\n\u001b[0;32m    378\u001b[0m \u001b[39mif\u001b[39;00m \u001b[39mcallable\u001b[39m(maybe_callable):\n\u001b[1;32m--> 379\u001b[0m     \u001b[39mreturn\u001b[39;00m maybe_callable(obj, \u001b[39m*\u001b[39m\u001b[39m*\u001b[39mkwargs)\n\u001b[0;32m    381\u001b[0m \u001b[39mreturn\u001b[39;00m maybe_callable\n",
      "\u001b[1;31mTypeError\u001b[0m: unique() takes 1 positional argument but 2 were given"
     ]
    }
   ],
   "source": []
  },
  {
   "cell_type": "code",
   "execution_count": null,
   "metadata": {},
   "outputs": [],
   "source": []
  },
  {
   "cell_type": "code",
   "execution_count": null,
   "metadata": {},
   "outputs": [],
   "source": []
  },
  {
   "cell_type": "code",
   "execution_count": null,
   "metadata": {},
   "outputs": [],
   "source": []
  },
  {
   "cell_type": "code",
   "execution_count": null,
   "metadata": {},
   "outputs": [],
   "source": []
  },
  {
   "cell_type": "code",
   "execution_count": null,
   "metadata": {},
   "outputs": [],
   "source": []
  }
 ],
 "metadata": {
  "kernelspec": {
   "display_name": "test",
   "language": "python",
   "name": "test"
  },
  "language_info": {
   "codemirror_mode": {
    "name": "ipython",
    "version": 3
   },
   "file_extension": ".py",
   "mimetype": "text/x-python",
   "name": "python",
   "nbconvert_exporter": "python",
   "pygments_lexer": "ipython3",
   "version": "3.9.18"
  }
 },
 "nbformat": 4,
 "nbformat_minor": 2
}
